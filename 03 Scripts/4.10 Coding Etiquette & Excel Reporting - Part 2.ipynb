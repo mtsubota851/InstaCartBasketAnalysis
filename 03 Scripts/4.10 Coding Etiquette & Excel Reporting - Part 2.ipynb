{
 "cells": [
  {
   "cell_type": "markdown",
   "id": "0ac98dd9",
   "metadata": {},
   "source": [
    "# Table of Contents\n",
    "\n",
    "Q6. Create an appropriate visualization to show the distribution of profiles\n",
    "\n",
    "Q7. Aggregate the max, mean, and min variables on a customer-profile level for usage frequency and expenditure\n",
    "\n",
    "Q8. Compare your customer profiles with regions and departments. Can you identify a link between them? Customers may demonstrate different behaviors across regions, which could make this information important"
   ]
  },
  {
   "cell_type": "markdown",
   "id": "26821eab",
   "metadata": {},
   "source": [
    "# 01. Importing Libraries"
   ]
  },
  {
   "cell_type": "code",
   "execution_count": 1,
   "id": "5e151ea6",
   "metadata": {},
   "outputs": [],
   "source": [
    "# Import libraries\n",
    "\n",
    "import pandas as pd\n",
    "import numpy as np\n",
    "import os\n",
    "import matplotlib.pyplot as plt\n",
    "import seaborn as sns\n",
    "import scipy"
   ]
  },
  {
   "cell_type": "markdown",
   "id": "bcf2b17c",
   "metadata": {},
   "source": [
    "# 02. Importing Data"
   ]
  },
  {
   "cell_type": "code",
   "execution_count": 2,
   "id": "3a15f6f4",
   "metadata": {},
   "outputs": [],
   "source": [
    "# Project folder pathway\n",
    "\n",
    "path = r'C:\\Users\\SD.DESKTOP-45BHU58\\OneDrive\\Desktop\\CF\\Section 4 - Python\\Instacart Basket Analysis'"
   ]
  },
  {
   "cell_type": "code",
   "execution_count": 3,
   "id": "b9cfd254",
   "metadata": {},
   "outputs": [
    {
     "data": {
      "text/plain": [
       "'C:\\\\Users\\\\SD.DESKTOP-45BHU58\\\\OneDrive\\\\Desktop\\\\CF\\\\Section 4 - Python\\\\Instacart Basket Analysis'"
      ]
     },
     "execution_count": 3,
     "metadata": {},
     "output_type": "execute_result"
    }
   ],
   "source": [
    "path"
   ]
  },
  {
   "cell_type": "code",
   "execution_count": 4,
   "id": "a7cb8faf",
   "metadata": {},
   "outputs": [],
   "source": [
    "# Importing most updated merged data set\n",
    "\n",
    "ords_prods_custs_merged_2 = pd.read_csv(os.path.join(path,'02 Data','Prepared Data','ords_prods_custs_merged_2.csv'))"
   ]
  },
  {
   "cell_type": "code",
   "execution_count": 5,
   "id": "39a2ba46",
   "metadata": {},
   "outputs": [
    {
     "data": {
      "text/plain": [
       "(32404859, 40)"
      ]
     },
     "execution_count": 5,
     "metadata": {},
     "output_type": "execute_result"
    }
   ],
   "source": [
    "# Checking shape\n",
    "\n",
    "ords_prods_custs_merged_2.shape"
   ]
  },
  {
   "cell_type": "code",
   "execution_count": 6,
   "id": "b9d559d7",
   "metadata": {},
   "outputs": [
    {
     "data": {
      "text/html": [
       "<div>\n",
       "<style scoped>\n",
       "    .dataframe tbody tr th:only-of-type {\n",
       "        vertical-align: middle;\n",
       "    }\n",
       "\n",
       "    .dataframe tbody tr th {\n",
       "        vertical-align: top;\n",
       "    }\n",
       "\n",
       "    .dataframe thead th {\n",
       "        text-align: right;\n",
       "    }\n",
       "</style>\n",
       "<table border=\"1\" class=\"dataframe\">\n",
       "  <thead>\n",
       "    <tr style=\"text-align: right;\">\n",
       "      <th></th>\n",
       "      <th>Unnamed: 0</th>\n",
       "      <th>order_id</th>\n",
       "      <th>user_id</th>\n",
       "      <th>order_number</th>\n",
       "      <th>orders_day_of_the_week</th>\n",
       "      <th>order_hour_of_day</th>\n",
       "      <th>days_since_prior_order</th>\n",
       "      <th>first_order</th>\n",
       "      <th>product_id</th>\n",
       "      <th>add_to_cart_order</th>\n",
       "      <th>...</th>\n",
       "      <th>number_of_dependants</th>\n",
       "      <th>fam_status</th>\n",
       "      <th>income</th>\n",
       "      <th>region</th>\n",
       "      <th>activity_flag</th>\n",
       "      <th>generation</th>\n",
       "      <th>income_group</th>\n",
       "      <th>parent_status</th>\n",
       "      <th>weekday</th>\n",
       "      <th>department_name</th>\n",
       "    </tr>\n",
       "  </thead>\n",
       "  <tbody>\n",
       "    <tr>\n",
       "      <th>0</th>\n",
       "      <td>0</td>\n",
       "      <td>2539329</td>\n",
       "      <td>1</td>\n",
       "      <td>1</td>\n",
       "      <td>2</td>\n",
       "      <td>8</td>\n",
       "      <td>NaN</td>\n",
       "      <td>True</td>\n",
       "      <td>196</td>\n",
       "      <td>1</td>\n",
       "      <td>...</td>\n",
       "      <td>3</td>\n",
       "      <td>married</td>\n",
       "      <td>40423</td>\n",
       "      <td>South</td>\n",
       "      <td>Normal activity</td>\n",
       "      <td>Millennials 26-41</td>\n",
       "      <td>Lower-middle class 32K-53K</td>\n",
       "      <td>Parent</td>\n",
       "      <td>Monday</td>\n",
       "      <td>Beverages</td>\n",
       "    </tr>\n",
       "  </tbody>\n",
       "</table>\n",
       "<p>1 rows × 40 columns</p>\n",
       "</div>"
      ],
      "text/plain": [
       "   Unnamed: 0  order_id  user_id  order_number  orders_day_of_the_week  \\\n",
       "0           0   2539329        1             1                       2   \n",
       "\n",
       "   order_hour_of_day  days_since_prior_order  first_order  product_id  \\\n",
       "0                  8                     NaN         True         196   \n",
       "\n",
       "   add_to_cart_order  ...  number_of_dependants fam_status  income  region  \\\n",
       "0                  1  ...                     3    married   40423   South   \n",
       "\n",
       "     activity_flag         generation                income_group  \\\n",
       "0  Normal activity  Millennials 26-41  Lower-middle class 32K-53K   \n",
       "\n",
       "  parent_status weekday department_name  \n",
       "0        Parent  Monday       Beverages  \n",
       "\n",
       "[1 rows x 40 columns]"
      ]
     },
     "execution_count": 6,
     "metadata": {},
     "output_type": "execute_result"
    }
   ],
   "source": [
    "# Checking headers\n",
    "\n",
    "ords_prods_custs_merged_2.head(1)"
   ]
  },
  {
   "cell_type": "code",
   "execution_count": 7,
   "id": "4db98722",
   "metadata": {},
   "outputs": [],
   "source": [
    "# Removing extra column 'Unnamed:0'\n",
    "\n",
    "ords_prods_custs_merged_3 = ords_prods_custs_merged_2.drop(columns = ['Unnamed: 0'])"
   ]
  },
  {
   "cell_type": "code",
   "execution_count": 8,
   "id": "c374083c",
   "metadata": {},
   "outputs": [
    {
     "data": {
      "text/html": [
       "<div>\n",
       "<style scoped>\n",
       "    .dataframe tbody tr th:only-of-type {\n",
       "        vertical-align: middle;\n",
       "    }\n",
       "\n",
       "    .dataframe tbody tr th {\n",
       "        vertical-align: top;\n",
       "    }\n",
       "\n",
       "    .dataframe thead th {\n",
       "        text-align: right;\n",
       "    }\n",
       "</style>\n",
       "<table border=\"1\" class=\"dataframe\">\n",
       "  <thead>\n",
       "    <tr style=\"text-align: right;\">\n",
       "      <th></th>\n",
       "      <th>order_id</th>\n",
       "      <th>user_id</th>\n",
       "      <th>order_number</th>\n",
       "      <th>orders_day_of_the_week</th>\n",
       "      <th>order_hour_of_day</th>\n",
       "      <th>days_since_prior_order</th>\n",
       "      <th>first_order</th>\n",
       "      <th>product_id</th>\n",
       "      <th>add_to_cart_order</th>\n",
       "      <th>reordered</th>\n",
       "      <th>...</th>\n",
       "      <th>number_of_dependants</th>\n",
       "      <th>fam_status</th>\n",
       "      <th>income</th>\n",
       "      <th>region</th>\n",
       "      <th>activity_flag</th>\n",
       "      <th>generation</th>\n",
       "      <th>income_group</th>\n",
       "      <th>parent_status</th>\n",
       "      <th>weekday</th>\n",
       "      <th>department_name</th>\n",
       "    </tr>\n",
       "  </thead>\n",
       "  <tbody>\n",
       "    <tr>\n",
       "      <th>0</th>\n",
       "      <td>2539329</td>\n",
       "      <td>1</td>\n",
       "      <td>1</td>\n",
       "      <td>2</td>\n",
       "      <td>8</td>\n",
       "      <td>NaN</td>\n",
       "      <td>True</td>\n",
       "      <td>196</td>\n",
       "      <td>1</td>\n",
       "      <td>0</td>\n",
       "      <td>...</td>\n",
       "      <td>3</td>\n",
       "      <td>married</td>\n",
       "      <td>40423</td>\n",
       "      <td>South</td>\n",
       "      <td>Normal activity</td>\n",
       "      <td>Millennials 26-41</td>\n",
       "      <td>Lower-middle class 32K-53K</td>\n",
       "      <td>Parent</td>\n",
       "      <td>Monday</td>\n",
       "      <td>Beverages</td>\n",
       "    </tr>\n",
       "  </tbody>\n",
       "</table>\n",
       "<p>1 rows × 39 columns</p>\n",
       "</div>"
      ],
      "text/plain": [
       "   order_id  user_id  order_number  orders_day_of_the_week  order_hour_of_day  \\\n",
       "0   2539329        1             1                       2                  8   \n",
       "\n",
       "   days_since_prior_order  first_order  product_id  add_to_cart_order  \\\n",
       "0                     NaN         True         196                  1   \n",
       "\n",
       "   reordered  ... number_of_dependants  fam_status  income  region  \\\n",
       "0          0  ...                    3     married   40423   South   \n",
       "\n",
       "     activity_flag         generation                income_group  \\\n",
       "0  Normal activity  Millennials 26-41  Lower-middle class 32K-53K   \n",
       "\n",
       "  parent_status weekday  department_name  \n",
       "0        Parent  Monday        Beverages  \n",
       "\n",
       "[1 rows x 39 columns]"
      ]
     },
     "execution_count": 8,
     "metadata": {},
     "output_type": "execute_result"
    }
   ],
   "source": [
    "# Double checking headers\n",
    "\n",
    "ords_prods_custs_merged_3.head(1)"
   ]
  },
  {
   "cell_type": "markdown",
   "id": "36ef1ea9",
   "metadata": {},
   "source": [
    "### Create an appropriate visualization to show the distribution of profiles"
   ]
  },
  {
   "cell_type": "markdown",
   "id": "af07874f",
   "metadata": {},
   "source": [
    "# Key Question 1: What are the busiest days of the week and hours of the day?"
   ]
  },
  {
   "cell_type": "code",
   "execution_count": 9,
   "id": "a6b49bb8",
   "metadata": {},
   "outputs": [
    {
     "data": {
      "image/png": "[encoded data removed]",
      "text/plain": [
       "<Figure size 432x288 with 1 Axes>"
      ]
     },
     "metadata": {
      "needs_background": "light"
     },
     "output_type": "display_data"
    }
   ],
   "source": [
    "# Creating a bar chart for 'weekday' value counts\n",
    "\n",
    "bar = ords_prods_custs_merged_3['weekday'].value_counts().plot.bar(color = 'purple')\n",
    "plt.ylabel('frequency')\n",
    "plt.tight_layout()"
   ]
  },
  {
   "cell_type": "code",
   "execution_count": 10,
   "id": "111af3bd",
   "metadata": {},
   "outputs": [],
   "source": [
    "# Exporting bar chart\n",
    "\n",
    "bar.figure.savefig(os.path.join(path, '04 Analysis', 'Visualizations', 'weekday_order_freq.png'))"
   ]
  },
  {
   "cell_type": "code",
   "execution_count": 11,
   "id": "9e67a176",
   "metadata": {},
   "outputs": [
    {
     "data": {
      "image/png": "[encoded data removed]",
      "text/plain": [
       "<Figure size 432x288 with 1 Axes>"
      ]
     },
     "metadata": {
      "needs_background": "light"
     },
     "output_type": "display_data"
    }
   ],
   "source": [
    "# Creating histogram for 'order_hour_of_day'\n",
    "\n",
    "bar_2 = ords_prods_custs_merged_3['order_hour_of_day'].value_counts().sort_index().plot.bar(color = 'purple')"
   ]
  },
  {
   "cell_type": "code",
   "execution_count": 12,
   "id": "ab5f3879",
   "metadata": {},
   "outputs": [],
   "source": [
    "# Exporting bar_2\n",
    "\n",
    "bar_2.figure.savefig(os.path.join(path, '04 Analysis', 'Visualizations', 'order_hour_freq.png'))"
   ]
  },
  {
   "cell_type": "code",
   "execution_count": 13,
   "id": "d12077dc",
   "metadata": {},
   "outputs": [],
   "source": [
    "# Calculating mean price per day\n",
    "\n",
    "price_per_day = ords_prods_custs_merged_3.groupby('weekday').agg({'prices': ['mean']})"
   ]
  },
  {
   "cell_type": "code",
   "execution_count": 14,
   "id": "3ec508b5",
   "metadata": {
    "scrolled": true
   },
   "outputs": [
    {
     "data": {
      "text/plain": [
       "Text(0, 0.5, 'mean_price')"
      ]
     },
     "execution_count": 14,
     "metadata": {},
     "output_type": "execute_result"
    },
    {
     "data": {
      "image/png": "[encoded data removed]",
      "text/plain": [
       "<Figure size 432x288 with 1 Axes>"
      ]
     },
     "metadata": {
      "needs_background": "light"
     },
     "output_type": "display_data"
    }
   ],
   "source": [
    "mean_price_per_day = sns.lineplot(data = price_per_day, legend = False)\n",
    "plt.ylabel('mean_price')"
   ]
  },
  {
   "cell_type": "code",
   "execution_count": 15,
   "id": "d13d78c0",
   "metadata": {},
   "outputs": [],
   "source": [
    "# Exporting price_per_day line graph\n",
    "\n",
    "mean_price_per_day.figure.savefig(os.path.join(path, '04 Analysis', 'Visualizations', 'mean_price_per_day.png'))"
   ]
  },
  {
   "cell_type": "markdown",
   "id": "e1725400",
   "metadata": {},
   "source": [
    "# Key Question 2: Are there particular times of the day people spend the most money?"
   ]
  },
  {
   "cell_type": "code",
   "execution_count": 16,
   "id": "c63f7dd9",
   "metadata": {},
   "outputs": [],
   "source": [
    "# Calculating mean price per hour\n",
    "\n",
    "price_per_hour = ords_prods_custs_merged_3.groupby('order_hour_of_day').agg({'prices': ['mean']})"
   ]
  },
  {
   "cell_type": "code",
   "execution_count": 17,
   "id": "8b1a7993",
   "metadata": {
    "scrolled": true
   },
   "outputs": [
    {
     "data": {
      "text/plain": [
       "Text(0, 0.5, 'mean_price')"
      ]
     },
     "execution_count": 17,
     "metadata": {},
     "output_type": "execute_result"
    },
    {
     "data": {
      "image/png": "[encoded data removed]",
      "text/plain": [
       "<Figure size 432x288 with 1 Axes>"
      ]
     },
     "metadata": {
      "needs_background": "light"
     },
     "output_type": "display_data"
    }
   ],
   "source": [
    "# Creating a line chart for mean price per hour\n",
    "\n",
    "mean_price_per_hour = sns.lineplot(data = price_per_hour, legend = False)\n",
    "plt.ylabel('mean_price')"
   ]
  },
  {
   "cell_type": "code",
   "execution_count": 18,
   "id": "74ecd9c8",
   "metadata": {},
   "outputs": [],
   "source": [
    "# Exporting mean_price_per_hour line graph\n",
    "\n",
    "mean_price_per_hour.figure.savefig(os.path.join(path, '04 Analysis', 'Visualizations', 'mean_price_per_hour.png'))"
   ]
  },
  {
   "cell_type": "markdown",
   "id": "d433d7ed",
   "metadata": {},
   "source": [
    "# Key Question 3: Is there a way to use simpler price range groupings to help marketing and sales with their efforts?"
   ]
  },
  {
   "cell_type": "code",
   "execution_count": 19,
   "id": "907f5af2",
   "metadata": {},
   "outputs": [
    {
     "data": {
      "image/png": "[encoded data removed]",
      "text/plain": [
       "<Figure size 432x288 with 1 Axes>"
      ]
     },
     "metadata": {
      "needs_background": "light"
     },
     "output_type": "display_data"
    }
   ],
   "source": [
    "hist = ords_prods_custs_merged_3['prices'].plot.hist(bins = 25)"
   ]
  },
  {
   "cell_type": "code",
   "execution_count": 20,
   "id": "c1e62c66",
   "metadata": {},
   "outputs": [],
   "source": [
    "# Exporting histogram\n",
    "\n",
    "hist.figure.savefig(os.path.join(path, '04 Analysis', 'Visualizations', 'prices_histogram.png'))"
   ]
  },
  {
   "cell_type": "code",
   "execution_count": 21,
   "id": "bbd91ec5",
   "metadata": {},
   "outputs": [
    {
     "data": {
      "text/plain": [
       "Text(0, 0.5, '')"
      ]
     },
     "execution_count": 21,
     "metadata": {},
     "output_type": "execute_result"
    },
    {
     "data": {
      "image/png": "[encoded data removed]",
      "text/plain": [
       "<Figure size 432x288 with 1 Axes>"
      ]
     },
     "metadata": {},
     "output_type": "display_data"
    }
   ],
   "source": [
    "# Showing pie chart of prince range categories\n",
    "\n",
    "pie = ords_prods_custs_merged_3['price_range_loc'].value_counts().plot.pie(autopct = '%1.1f%%', colors = sns.color_palette('pastel',3))\n",
    "plt.ylabel('')"
   ]
  },
  {
   "cell_type": "code",
   "execution_count": 22,
   "id": "4fe93cd5",
   "metadata": {},
   "outputs": [],
   "source": [
    "# Exporting pie chart\n",
    "\n",
    "pie.figure.savefig(os.path.join(path, '04 Analysis', 'Visualizations', 'price_range_pie.png'))"
   ]
  },
  {
   "cell_type": "code",
   "execution_count": 23,
   "id": "5bd3d46d",
   "metadata": {},
   "outputs": [],
   "source": [
    "# Sales by price_range assigned to variable\n",
    "\n",
    "price_range_sum = ords_prods_custs_merged_3.groupby('price_range_loc').agg({'prices' : ['sum']})"
   ]
  },
  {
   "cell_type": "code",
   "execution_count": 24,
   "id": "63af3713",
   "metadata": {},
   "outputs": [
    {
     "data": {
      "image/png": "[encoded data removed]",
      "text/plain": [
       "<Figure size 432x288 with 1 Axes>"
      ]
     },
     "metadata": {
      "needs_background": "light"
     },
     "output_type": "display_data"
    }
   ],
   "source": [
    "bar_price_range_sum = price_range_sum.plot.bar(color = 'maroon')\n",
    "plt.tight_layout()"
   ]
  },
  {
   "cell_type": "code",
   "execution_count": 25,
   "id": "dc8ba9a2",
   "metadata": {},
   "outputs": [],
   "source": [
    "# Exporting bar_price_range_sum\n",
    "\n",
    "bar_price_range_sum.figure.savefig(os.path.join(path, '04 Analysis', 'Visualizations', 'sales_by_price_range.png'))"
   ]
  },
  {
   "cell_type": "markdown",
   "id": "8c2a5a11",
   "metadata": {},
   "source": [
    "# Key Question 4a:  Are there certain types of products more popular than others?"
   ]
  },
  {
   "cell_type": "code",
   "execution_count": 26,
   "id": "3a65058d",
   "metadata": {},
   "outputs": [],
   "source": [
    "# Total sales by product name\n",
    "\n",
    "sales_by_product_name = ords_prods_custs_merged_3.groupby('product_name').agg({'prices' : ['min', 'max', 'sum']})"
   ]
  },
  {
   "cell_type": "code",
   "execution_count": 27,
   "id": "36801945",
   "metadata": {},
   "outputs": [],
   "source": [
    "# Excel view\n",
    "\n",
    "sales_by_product_name.to_clipboard()"
   ]
  },
  {
   "cell_type": "code",
   "execution_count": 28,
   "id": "f11f9697",
   "metadata": {},
   "outputs": [],
   "source": [
    "# Creating list with top 10 best selling products\n",
    "\n",
    "top_10_products = ['Banana', 'Bag of Organic Bananas', 'Large Lemon', 'Limes', 'Organic Baby Spinach', 'Organic Strawberries', 'Organic Whole Milk', 'Cucumber Kirby', 'Apple Honeycrisp Organic', 'Organic Cucumber']"
   ]
  },
  {
   "cell_type": "code",
   "execution_count": 29,
   "id": "db67eeef",
   "metadata": {},
   "outputs": [],
   "source": [
    "# Writing loop to create a flag for top 10 best selling products\n",
    "\n",
    "top_10 = []\n",
    "\n",
    "for value in ords_prods_custs_merged_3['product_name']:\n",
    "    if value in top_10_products:\n",
    "        top_10.append('Top 10 selling product')\n",
    "    else:\n",
    "        top_10.append('Not applicable')"
   ]
  },
  {
   "cell_type": "code",
   "execution_count": 34,
   "id": "25706720",
   "metadata": {},
   "outputs": [
    {
     "data": {
      "text/plain": [
       "['Not applicable',\n",
       " 'Not applicable',\n",
       " 'Not applicable',\n",
       " 'Not applicable',\n",
       " 'Not applicable',\n",
       " 'Not applicable',\n",
       " 'Not applicable',\n",
       " 'Not applicable',\n",
       " 'Not applicable',\n",
       " 'Not applicable',\n",
       " 'Not applicable',\n",
       " 'Not applicable',\n",
       " 'Not applicable',\n",
       " 'Not applicable',\n",
       " 'Not applicable',\n",
       " 'Not applicable',\n",
       " 'Not applicable',\n",
       " 'Not applicable',\n",
       " 'Not applicable',\n",
       " 'Not applicable',\n",
       " 'Not applicable',\n",
       " 'Not applicable',\n",
       " 'Not applicable',\n",
       " 'Not applicable',\n",
       " 'Not applicable',\n",
       " 'Not applicable',\n",
       " 'Not applicable',\n",
       " 'Not applicable',\n",
       " 'Not applicable',\n",
       " 'Not applicable',\n",
       " 'Not applicable',\n",
       " 'Not applicable',\n",
       " 'Not applicable',\n",
       " 'Not applicable',\n",
       " 'Top 10 selling product',\n",
       " 'Top 10 selling product',\n",
       " 'Not applicable',\n",
       " 'Not applicable',\n",
       " 'Not applicable',\n",
       " 'Not applicable',\n",
       " 'Not applicable',\n",
       " 'Not applicable',\n",
       " 'Not applicable',\n",
       " 'Not applicable',\n",
       " 'Not applicable',\n",
       " 'Not applicable',\n",
       " 'Not applicable',\n",
       " 'Not applicable',\n",
       " 'Not applicable',\n",
       " 'Not applicable',\n",
       " 'Not applicable',\n",
       " 'Not applicable',\n",
       " 'Not applicable',\n",
       " 'Not applicable',\n",
       " 'Not applicable',\n",
       " 'Not applicable',\n",
       " 'Not applicable',\n",
       " 'Not applicable',\n",
       " 'Not applicable',\n",
       " 'Not applicable',\n",
       " 'Not applicable',\n",
       " 'Not applicable',\n",
       " 'Not applicable',\n",
       " 'Not applicable',\n",
       " 'Not applicable',\n",
       " 'Not applicable',\n",
       " 'Not applicable',\n",
       " 'Not applicable',\n",
       " 'Not applicable',\n",
       " 'Not applicable',\n",
       " 'Not applicable',\n",
       " 'Not applicable',\n",
       " 'Not applicable',\n",
       " 'Not applicable',\n",
       " 'Not applicable',\n",
       " 'Not applicable',\n",
       " 'Not applicable',\n",
       " 'Not applicable',\n",
       " 'Not applicable',\n",
       " 'Not applicable',\n",
       " 'Not applicable',\n",
       " 'Not applicable',\n",
       " 'Not applicable',\n",
       " 'Not applicable',\n",
       " 'Not applicable',\n",
       " 'Not applicable',\n",
       " 'Not applicable',\n",
       " 'Not applicable',\n",
       " 'Not applicable',\n",
       " 'Not applicable',\n",
       " 'Not applicable',\n",
       " 'Not applicable',\n",
       " 'Not applicable',\n",
       " 'Not applicable',\n",
       " 'Not applicable',\n",
       " 'Not applicable',\n",
       " 'Not applicable',\n",
       " 'Not applicable',\n",
       " 'Not applicable',\n",
       " 'Not applicable',\n",
       " 'Not applicable',\n",
       " 'Not applicable',\n",
       " 'Not applicable',\n",
       " 'Not applicable',\n",
       " 'Not applicable',\n",
       " 'Not applicable',\n",
       " 'Not applicable',\n",
       " 'Not applicable',\n",
       " 'Not applicable',\n",
       " 'Not applicable',\n",
       " 'Not applicable',\n",
       " 'Not applicable',\n",
       " 'Not applicable',\n",
       " 'Not applicable',\n",
       " 'Not applicable',\n",
       " 'Not applicable',\n",
       " 'Not applicable',\n",
       " 'Not applicable',\n",
       " 'Not applicable',\n",
       " 'Not applicable',\n",
       " 'Not applicable',\n",
       " 'Not applicable',\n",
       " 'Not applicable',\n",
       " 'Not applicable',\n",
       " 'Not applicable',\n",
       " 'Not applicable',\n",
       " 'Not applicable',\n",
       " 'Not applicable',\n",
       " 'Not applicable',\n",
       " 'Not applicable',\n",
       " 'Not applicable',\n",
       " 'Not applicable',\n",
       " 'Not applicable',\n",
       " 'Not applicable',\n",
       " 'Not applicable',\n",
       " 'Not applicable',\n",
       " 'Not applicable',\n",
       " 'Not applicable',\n",
       " 'Not applicable',\n",
       " 'Not applicable',\n",
       " 'Not applicable',\n",
       " 'Not applicable',\n",
       " 'Not applicable',\n",
       " 'Not applicable',\n",
       " 'Not applicable',\n",
       " 'Not applicable',\n",
       " 'Not applicable',\n",
       " 'Not applicable',\n",
       " 'Not applicable',\n",
       " 'Not applicable',\n",
       " 'Not applicable',\n",
       " 'Not applicable',\n",
       " 'Not applicable',\n",
       " 'Not applicable',\n",
       " 'Not applicable',\n",
       " 'Not applicable',\n",
       " 'Not applicable',\n",
       " 'Not applicable',\n",
       " 'Not applicable',\n",
       " 'Not applicable',\n",
       " 'Not applicable',\n",
       " 'Not applicable',\n",
       " 'Not applicable',\n",
       " 'Not applicable',\n",
       " 'Not applicable',\n",
       " 'Not applicable',\n",
       " 'Not applicable',\n",
       " 'Not applicable',\n",
       " 'Not applicable',\n",
       " 'Not applicable',\n",
       " 'Not applicable',\n",
       " 'Not applicable',\n",
       " 'Not applicable',\n",
       " 'Not applicable',\n",
       " 'Not applicable',\n",
       " 'Not applicable',\n",
       " 'Not applicable',\n",
       " 'Not applicable',\n",
       " 'Not applicable',\n",
       " 'Not applicable',\n",
       " 'Not applicable',\n",
       " 'Not applicable',\n",
       " 'Not applicable',\n",
       " 'Not applicable',\n",
       " 'Not applicable',\n",
       " 'Not applicable',\n",
       " 'Not applicable',\n",
       " 'Not applicable',\n",
       " 'Not applicable',\n",
       " 'Not applicable',\n",
       " 'Not applicable',\n",
       " 'Not applicable',\n",
       " 'Not applicable',\n",
       " 'Not applicable',\n",
       " 'Not applicable',\n",
       " 'Not applicable',\n",
       " 'Not applicable',\n",
       " 'Not applicable',\n",
       " 'Not applicable',\n",
       " 'Not applicable',\n",
       " 'Not applicable',\n",
       " 'Not applicable',\n",
       " 'Not applicable',\n",
       " 'Not applicable',\n",
       " 'Not applicable',\n",
       " 'Not applicable',\n",
       " 'Not applicable',\n",
       " 'Not applicable',\n",
       " 'Not applicable',\n",
       " 'Not applicable',\n",
       " 'Not applicable',\n",
       " 'Not applicable',\n",
       " 'Not applicable',\n",
       " 'Not applicable',\n",
       " 'Not applicable',\n",
       " 'Not applicable',\n",
       " 'Not applicable',\n",
       " 'Not applicable',\n",
       " 'Not applicable',\n",
       " 'Not applicable',\n",
       " 'Not applicable',\n",
       " 'Not applicable',\n",
       " 'Not applicable',\n",
       " 'Not applicable',\n",
       " 'Not applicable',\n",
       " 'Not applicable',\n",
       " 'Not applicable',\n",
       " 'Not applicable',\n",
       " 'Not applicable',\n",
       " 'Not applicable',\n",
       " 'Not applicable',\n",
       " 'Not applicable',\n",
       " 'Not applicable',\n",
       " 'Not applicable',\n",
       " 'Not applicable',\n",
       " 'Not applicable',\n",
       " 'Not applicable',\n",
       " 'Not applicable',\n",
       " 'Not applicable',\n",
       " 'Not applicable',\n",
       " 'Not applicable',\n",
       " 'Not applicable',\n",
       " 'Not applicable',\n",
       " 'Not applicable',\n",
       " 'Not applicable',\n",
       " 'Not applicable',\n",
       " 'Not applicable',\n",
       " 'Not applicable',\n",
       " 'Not applicable',\n",
       " 'Not applicable',\n",
       " 'Not applicable',\n",
       " 'Not applicable',\n",
       " 'Not applicable',\n",
       " 'Not applicable',\n",
       " 'Not applicable',\n",
       " 'Not applicable',\n",
       " 'Not applicable',\n",
       " 'Not applicable',\n",
       " 'Not applicable',\n",
       " 'Not applicable',\n",
       " 'Not applicable',\n",
       " 'Not applicable',\n",
       " 'Not applicable',\n",
       " 'Not applicable',\n",
       " 'Not applicable',\n",
       " 'Not applicable',\n",
       " 'Not applicable',\n",
       " 'Not applicable',\n",
       " 'Not applicable',\n",
       " 'Not applicable',\n",
       " 'Not applicable',\n",
       " 'Not applicable',\n",
       " 'Not applicable',\n",
       " 'Not applicable',\n",
       " 'Not applicable',\n",
       " 'Not applicable',\n",
       " 'Not applicable',\n",
       " 'Not applicable',\n",
       " 'Not applicable',\n",
       " 'Not applicable',\n",
       " 'Not applicable',\n",
       " 'Not applicable',\n",
       " 'Not applicable',\n",
       " 'Not applicable',\n",
       " 'Not applicable',\n",
       " 'Not applicable',\n",
       " 'Not applicable',\n",
       " 'Not applicable',\n",
       " 'Not applicable',\n",
       " 'Not applicable',\n",
       " 'Not applicable',\n",
       " 'Not applicable',\n",
       " 'Not applicable',\n",
       " 'Not applicable',\n",
       " 'Not applicable',\n",
       " 'Not applicable',\n",
       " 'Not applicable',\n",
       " 'Not applicable',\n",
       " 'Not applicable',\n",
       " 'Not applicable',\n",
       " 'Not applicable',\n",
       " 'Not applicable',\n",
       " 'Not applicable',\n",
       " 'Not applicable',\n",
       " 'Not applicable',\n",
       " 'Not applicable',\n",
       " 'Not applicable',\n",
       " 'Not applicable',\n",
       " 'Not applicable',\n",
       " 'Not applicable',\n",
       " 'Not applicable',\n",
       " 'Not applicable',\n",
       " 'Not applicable',\n",
       " 'Not applicable',\n",
       " 'Not applicable',\n",
       " 'Not applicable',\n",
       " 'Not applicable',\n",
       " 'Not applicable',\n",
       " 'Not applicable',\n",
       " 'Not applicable',\n",
       " 'Not applicable',\n",
       " 'Not applicable',\n",
       " 'Not applicable',\n",
       " 'Not applicable',\n",
       " 'Not applicable',\n",
       " 'Not applicable',\n",
       " 'Not applicable',\n",
       " 'Not applicable',\n",
       " 'Not applicable',\n",
       " 'Not applicable',\n",
       " 'Not applicable',\n",
       " 'Not applicable',\n",
       " 'Not applicable',\n",
       " 'Not applicable',\n",
       " 'Not applicable',\n",
       " 'Not applicable',\n",
       " 'Not applicable',\n",
       " 'Not applicable',\n",
       " 'Not applicable',\n",
       " 'Not applicable',\n",
       " 'Not applicable',\n",
       " 'Not applicable',\n",
       " 'Not applicable',\n",
       " 'Not applicable',\n",
       " 'Not applicable',\n",
       " 'Not applicable',\n",
       " 'Not applicable',\n",
       " 'Top 10 selling product',\n",
       " 'Top 10 selling product',\n",
       " 'Top 10 selling product',\n",
       " 'Not applicable',\n",
       " 'Not applicable',\n",
       " 'Not applicable',\n",
       " 'Not applicable',\n",
       " 'Not applicable',\n",
       " 'Not applicable',\n",
       " 'Not applicable',\n",
       " 'Not applicable',\n",
       " 'Not applicable',\n",
       " 'Top 10 selling product',\n",
       " 'Not applicable',\n",
       " 'Not applicable',\n",
       " 'Top 10 selling product',\n",
       " 'Not applicable',\n",
       " 'Not applicable',\n",
       " 'Not applicable',\n",
       " 'Not applicable',\n",
       " 'Not applicable',\n",
       " 'Not applicable',\n",
       " 'Not applicable',\n",
       " 'Not applicable',\n",
       " 'Not applicable',\n",
       " 'Not applicable',\n",
       " 'Not applicable',\n",
       " 'Not applicable',\n",
       " 'Not applicable',\n",
       " 'Not applicable',\n",
       " 'Not applicable',\n",
       " 'Not applicable',\n",
       " 'Not applicable',\n",
       " 'Not applicable',\n",
       " 'Not applicable',\n",
       " 'Not applicable',\n",
       " 'Not applicable',\n",
       " 'Not applicable',\n",
       " 'Not applicable',\n",
       " 'Not applicable',\n",
       " 'Not applicable',\n",
       " 'Not applicable',\n",
       " 'Not applicable',\n",
       " 'Not applicable',\n",
       " 'Not applicable',\n",
       " 'Not applicable',\n",
       " 'Not applicable',\n",
       " 'Not applicable',\n",
       " 'Not applicable',\n",
       " 'Not applicable',\n",
       " 'Not applicable',\n",
       " 'Not applicable',\n",
       " 'Not applicable',\n",
       " 'Not applicable',\n",
       " 'Not applicable',\n",
       " 'Not applicable',\n",
       " 'Not applicable',\n",
       " 'Not applicable',\n",
       " 'Not applicable',\n",
       " 'Not applicable',\n",
       " 'Not applicable',\n",
       " 'Not applicable',\n",
       " 'Not applicable',\n",
       " 'Not applicable',\n",
       " 'Not applicable',\n",
       " 'Not applicable',\n",
       " 'Not applicable',\n",
       " 'Not applicable',\n",
       " 'Not applicable',\n",
       " 'Not applicable',\n",
       " 'Not applicable',\n",
       " 'Not applicable',\n",
       " 'Not applicable',\n",
       " 'Not applicable',\n",
       " 'Not applicable',\n",
       " 'Not applicable',\n",
       " 'Not applicable',\n",
       " 'Not applicable',\n",
       " 'Not applicable',\n",
       " 'Not applicable',\n",
       " 'Not applicable',\n",
       " 'Not applicable',\n",
       " 'Not applicable',\n",
       " 'Not applicable',\n",
       " 'Not applicable',\n",
       " 'Not applicable',\n",
       " 'Not applicable',\n",
       " 'Not applicable',\n",
       " 'Not applicable',\n",
       " 'Not applicable',\n",
       " 'Not applicable',\n",
       " 'Not applicable',\n",
       " 'Not applicable',\n",
       " 'Not applicable',\n",
       " 'Not applicable',\n",
       " 'Not applicable',\n",
       " 'Not applicable',\n",
       " 'Not applicable',\n",
       " 'Not applicable',\n",
       " 'Not applicable',\n",
       " 'Not applicable',\n",
       " 'Not applicable',\n",
       " 'Not applicable',\n",
       " 'Not applicable',\n",
       " 'Not applicable',\n",
       " 'Not applicable',\n",
       " 'Not applicable',\n",
       " 'Not applicable',\n",
       " 'Not applicable',\n",
       " 'Not applicable',\n",
       " 'Not applicable',\n",
       " 'Not applicable',\n",
       " 'Not applicable',\n",
       " 'Not applicable',\n",
       " 'Not applicable',\n",
       " 'Not applicable',\n",
       " 'Not applicable',\n",
       " 'Not applicable',\n",
       " 'Not applicable',\n",
       " 'Not applicable',\n",
       " 'Not applicable',\n",
       " 'Not applicable',\n",
       " 'Not applicable',\n",
       " 'Not applicable',\n",
       " 'Not applicable',\n",
       " 'Not applicable',\n",
       " 'Not applicable',\n",
       " 'Not applicable',\n",
       " 'Not applicable',\n",
       " 'Not applicable',\n",
       " 'Not applicable',\n",
       " 'Not applicable',\n",
       " 'Not applicable',\n",
       " 'Not applicable',\n",
       " 'Not applicable',\n",
       " 'Not applicable',\n",
       " 'Not applicable',\n",
       " 'Not applicable',\n",
       " 'Not applicable',\n",
       " 'Not applicable',\n",
       " 'Not applicable',\n",
       " 'Not applicable',\n",
       " 'Not applicable',\n",
       " 'Not applicable',\n",
       " 'Not applicable',\n",
       " 'Not applicable',\n",
       " 'Not applicable',\n",
       " 'Not applicable',\n",
       " 'Not applicable',\n",
       " 'Not applicable',\n",
       " 'Not applicable',\n",
       " 'Not applicable',\n",
       " 'Not applicable',\n",
       " 'Not applicable',\n",
       " 'Not applicable',\n",
       " 'Not applicable',\n",
       " 'Not applicable',\n",
       " 'Not applicable',\n",
       " 'Not applicable',\n",
       " 'Not applicable',\n",
       " 'Not applicable',\n",
       " 'Not applicable',\n",
       " 'Not applicable',\n",
       " 'Not applicable',\n",
       " 'Not applicable',\n",
       " 'Not applicable',\n",
       " 'Not applicable',\n",
       " 'Not applicable',\n",
       " 'Not applicable',\n",
       " 'Not applicable',\n",
       " 'Not applicable',\n",
       " 'Not applicable',\n",
       " 'Not applicable',\n",
       " 'Not applicable',\n",
       " 'Not applicable',\n",
       " 'Not applicable',\n",
       " 'Not applicable',\n",
       " 'Not applicable',\n",
       " 'Not applicable',\n",
       " 'Not applicable',\n",
       " 'Not applicable',\n",
       " 'Not applicable',\n",
       " 'Not applicable',\n",
       " 'Not applicable',\n",
       " 'Not applicable',\n",
       " 'Not applicable',\n",
       " 'Not applicable',\n",
       " 'Not applicable',\n",
       " 'Not applicable',\n",
       " 'Not applicable',\n",
       " 'Not applicable',\n",
       " 'Not applicable',\n",
       " 'Not applicable',\n",
       " 'Not applicable',\n",
       " 'Not applicable',\n",
       " 'Not applicable',\n",
       " 'Not applicable',\n",
       " 'Not applicable',\n",
       " 'Not applicable',\n",
       " 'Not applicable',\n",
       " 'Not applicable',\n",
       " 'Not applicable',\n",
       " 'Not applicable',\n",
       " 'Not applicable',\n",
       " 'Not applicable',\n",
       " 'Not applicable',\n",
       " 'Not applicable',\n",
       " 'Not applicable',\n",
       " 'Not applicable',\n",
       " 'Not applicable',\n",
       " 'Not applicable',\n",
       " 'Not applicable',\n",
       " 'Not applicable',\n",
       " 'Not applicable',\n",
       " 'Not applicable',\n",
       " 'Not applicable',\n",
       " 'Not applicable',\n",
       " 'Not applicable',\n",
       " 'Not applicable',\n",
       " 'Not applicable',\n",
       " 'Not applicable',\n",
       " 'Not applicable',\n",
       " 'Not applicable',\n",
       " 'Not applicable',\n",
       " 'Not applicable',\n",
       " 'Not applicable',\n",
       " 'Not applicable',\n",
       " 'Not applicable',\n",
       " 'Not applicable',\n",
       " 'Not applicable',\n",
       " 'Not applicable',\n",
       " 'Not applicable',\n",
       " 'Not applicable',\n",
       " 'Not applicable',\n",
       " 'Not applicable',\n",
       " 'Not applicable',\n",
       " 'Not applicable',\n",
       " 'Not applicable',\n",
       " 'Not applicable',\n",
       " 'Not applicable',\n",
       " 'Not applicable',\n",
       " 'Not applicable',\n",
       " 'Not applicable',\n",
       " 'Not applicable',\n",
       " 'Not applicable',\n",
       " 'Not applicable',\n",
       " 'Not applicable',\n",
       " 'Not applicable',\n",
       " 'Not applicable',\n",
       " 'Not applicable',\n",
       " 'Not applicable',\n",
       " 'Not applicable',\n",
       " 'Not applicable',\n",
       " 'Not applicable',\n",
       " 'Not applicable',\n",
       " 'Not applicable',\n",
       " 'Not applicable',\n",
       " 'Not applicable',\n",
       " 'Not applicable',\n",
       " 'Not applicable',\n",
       " 'Not applicable',\n",
       " 'Not applicable',\n",
       " 'Not applicable',\n",
       " 'Not applicable',\n",
       " 'Not applicable',\n",
       " 'Not applicable',\n",
       " 'Not applicable',\n",
       " 'Not applicable',\n",
       " 'Not applicable',\n",
       " 'Not applicable',\n",
       " 'Not applicable',\n",
       " 'Not applicable',\n",
       " 'Not applicable',\n",
       " 'Not applicable',\n",
       " 'Not applicable',\n",
       " 'Not applicable',\n",
       " 'Not applicable',\n",
       " 'Not applicable',\n",
       " 'Not applicable',\n",
       " 'Not applicable',\n",
       " 'Not applicable',\n",
       " 'Not applicable',\n",
       " 'Not applicable',\n",
       " 'Not applicable',\n",
       " 'Not applicable',\n",
       " 'Not applicable',\n",
       " 'Not applicable',\n",
       " 'Not applicable',\n",
       " 'Not applicable',\n",
       " 'Not applicable',\n",
       " 'Not applicable',\n",
       " 'Not applicable',\n",
       " 'Not applicable',\n",
       " 'Not applicable',\n",
       " 'Not applicable',\n",
       " 'Not applicable',\n",
       " 'Not applicable',\n",
       " 'Not applicable',\n",
       " 'Not applicable',\n",
       " 'Not applicable',\n",
       " 'Not applicable',\n",
       " 'Not applicable',\n",
       " 'Not applicable',\n",
       " 'Not applicable',\n",
       " 'Not applicable',\n",
       " 'Not applicable',\n",
       " 'Not applicable',\n",
       " 'Not applicable',\n",
       " 'Not applicable',\n",
       " 'Not applicable',\n",
       " 'Not applicable',\n",
       " 'Not applicable',\n",
       " 'Not applicable',\n",
       " 'Not applicable',\n",
       " 'Not applicable',\n",
       " 'Not applicable',\n",
       " 'Not applicable',\n",
       " 'Not applicable',\n",
       " 'Not applicable',\n",
       " 'Not applicable',\n",
       " 'Not applicable',\n",
       " 'Not applicable',\n",
       " 'Not applicable',\n",
       " 'Not applicable',\n",
       " 'Not applicable',\n",
       " 'Not applicable',\n",
       " 'Not applicable',\n",
       " 'Not applicable',\n",
       " 'Not applicable',\n",
       " 'Not applicable',\n",
       " 'Not applicable',\n",
       " 'Not applicable',\n",
       " 'Not applicable',\n",
       " 'Not applicable',\n",
       " 'Not applicable',\n",
       " 'Not applicable',\n",
       " 'Not applicable',\n",
       " 'Not applicable',\n",
       " 'Not applicable',\n",
       " 'Not applicable',\n",
       " 'Not applicable',\n",
       " 'Not applicable',\n",
       " 'Not applicable',\n",
       " 'Not applicable',\n",
       " 'Not applicable',\n",
       " 'Not applicable',\n",
       " 'Not applicable',\n",
       " 'Not applicable',\n",
       " 'Not applicable',\n",
       " 'Not applicable',\n",
       " 'Not applicable',\n",
       " 'Not applicable',\n",
       " 'Not applicable',\n",
       " 'Not applicable',\n",
       " 'Not applicable',\n",
       " 'Not applicable',\n",
       " 'Not applicable',\n",
       " 'Not applicable',\n",
       " 'Not applicable',\n",
       " 'Not applicable',\n",
       " 'Not applicable',\n",
       " 'Not applicable',\n",
       " 'Not applicable',\n",
       " 'Not applicable',\n",
       " 'Not applicable',\n",
       " 'Not applicable',\n",
       " 'Not applicable',\n",
       " 'Not applicable',\n",
       " 'Not applicable',\n",
       " 'Not applicable',\n",
       " 'Not applicable',\n",
       " 'Not applicable',\n",
       " 'Not applicable',\n",
       " 'Not applicable',\n",
       " 'Not applicable',\n",
       " 'Not applicable',\n",
       " 'Not applicable',\n",
       " 'Not applicable',\n",
       " 'Not applicable',\n",
       " 'Not applicable',\n",
       " 'Not applicable',\n",
       " 'Not applicable',\n",
       " 'Not applicable',\n",
       " 'Not applicable',\n",
       " 'Not applicable',\n",
       " 'Not applicable',\n",
       " 'Not applicable',\n",
       " 'Not applicable',\n",
       " 'Not applicable',\n",
       " 'Not applicable',\n",
       " 'Not applicable',\n",
       " 'Not applicable',\n",
       " 'Not applicable',\n",
       " 'Not applicable',\n",
       " 'Not applicable',\n",
       " 'Not applicable',\n",
       " 'Not applicable',\n",
       " 'Not applicable',\n",
       " 'Not applicable',\n",
       " 'Not applicable',\n",
       " 'Not applicable',\n",
       " 'Not applicable',\n",
       " 'Not applicable',\n",
       " 'Not applicable',\n",
       " 'Not applicable',\n",
       " 'Not applicable',\n",
       " 'Not applicable',\n",
       " 'Not applicable',\n",
       " 'Not applicable',\n",
       " 'Not applicable',\n",
       " 'Not applicable',\n",
       " 'Not applicable',\n",
       " 'Not applicable',\n",
       " 'Not applicable',\n",
       " 'Not applicable',\n",
       " 'Not applicable',\n",
       " 'Not applicable',\n",
       " 'Not applicable',\n",
       " 'Not applicable',\n",
       " 'Not applicable',\n",
       " 'Not applicable',\n",
       " 'Not applicable',\n",
       " 'Not applicable',\n",
       " 'Not applicable',\n",
       " 'Not applicable',\n",
       " 'Not applicable',\n",
       " 'Not applicable',\n",
       " 'Not applicable',\n",
       " 'Not applicable',\n",
       " 'Not applicable',\n",
       " 'Not applicable',\n",
       " 'Not applicable',\n",
       " 'Not applicable',\n",
       " 'Not applicable',\n",
       " 'Not applicable',\n",
       " 'Not applicable',\n",
       " 'Not applicable',\n",
       " 'Not applicable',\n",
       " 'Not applicable',\n",
       " 'Not applicable',\n",
       " 'Not applicable',\n",
       " 'Not applicable',\n",
       " 'Not applicable',\n",
       " 'Not applicable',\n",
       " 'Not applicable',\n",
       " 'Not applicable',\n",
       " 'Not applicable',\n",
       " 'Not applicable',\n",
       " 'Not applicable',\n",
       " 'Not applicable',\n",
       " 'Not applicable',\n",
       " 'Not applicable',\n",
       " 'Not applicable',\n",
       " 'Not applicable',\n",
       " 'Not applicable',\n",
       " 'Not applicable',\n",
       " 'Not applicable',\n",
       " 'Not applicable',\n",
       " 'Not applicable',\n",
       " 'Not applicable',\n",
       " 'Not applicable',\n",
       " 'Not applicable',\n",
       " 'Not applicable',\n",
       " 'Not applicable',\n",
       " 'Not applicable',\n",
       " 'Not applicable',\n",
       " 'Not applicable',\n",
       " 'Not applicable',\n",
       " 'Not applicable',\n",
       " 'Not applicable',\n",
       " 'Not applicable',\n",
       " 'Not applicable',\n",
       " 'Not applicable',\n",
       " 'Not applicable',\n",
       " 'Not applicable',\n",
       " 'Not applicable',\n",
       " 'Not applicable',\n",
       " 'Not applicable',\n",
       " 'Not applicable',\n",
       " 'Not applicable',\n",
       " 'Not applicable',\n",
       " 'Not applicable',\n",
       " 'Not applicable',\n",
       " 'Not applicable',\n",
       " 'Not applicable',\n",
       " 'Not applicable',\n",
       " 'Not applicable',\n",
       " 'Not applicable',\n",
       " 'Not applicable',\n",
       " 'Not applicable',\n",
       " 'Not applicable',\n",
       " 'Not applicable',\n",
       " 'Not applicable',\n",
       " 'Not applicable',\n",
       " 'Not applicable',\n",
       " 'Not applicable',\n",
       " 'Not applicable',\n",
       " 'Top 10 selling product',\n",
       " 'Top 10 selling product',\n",
       " 'Top 10 selling product',\n",
       " 'Top 10 selling product',\n",
       " 'Top 10 selling product',\n",
       " 'Top 10 selling product',\n",
       " 'Top 10 selling product',\n",
       " 'Top 10 selling product',\n",
       " 'Not applicable',\n",
       " 'Not applicable',\n",
       " 'Not applicable',\n",
       " 'Not applicable',\n",
       " 'Not applicable',\n",
       " 'Not applicable',\n",
       " 'Not applicable',\n",
       " 'Not applicable',\n",
       " 'Not applicable',\n",
       " 'Not applicable',\n",
       " 'Not applicable',\n",
       " 'Not applicable',\n",
       " 'Not applicable',\n",
       " 'Not applicable',\n",
       " 'Not applicable',\n",
       " 'Not applicable',\n",
       " 'Not applicable',\n",
       " 'Not applicable',\n",
       " 'Not applicable',\n",
       " 'Not applicable',\n",
       " 'Not applicable',\n",
       " 'Not applicable',\n",
       " 'Not applicable',\n",
       " 'Not applicable',\n",
       " 'Not applicable',\n",
       " 'Not applicable',\n",
       " 'Not applicable',\n",
       " 'Not applicable',\n",
       " 'Not applicable',\n",
       " 'Not applicable',\n",
       " 'Not applicable',\n",
       " 'Not applicable',\n",
       " 'Not applicable',\n",
       " 'Not applicable',\n",
       " 'Not applicable',\n",
       " 'Not applicable',\n",
       " 'Not applicable',\n",
       " 'Not applicable',\n",
       " 'Not applicable',\n",
       " 'Not applicable',\n",
       " 'Not applicable',\n",
       " 'Not applicable',\n",
       " 'Not applicable',\n",
       " 'Not applicable',\n",
       " 'Not applicable',\n",
       " 'Not applicable',\n",
       " 'Not applicable',\n",
       " 'Not applicable',\n",
       " 'Not applicable',\n",
       " 'Not applicable',\n",
       " 'Not applicable',\n",
       " 'Not applicable',\n",
       " 'Not applicable',\n",
       " 'Not applicable',\n",
       " 'Not applicable',\n",
       " 'Not applicable',\n",
       " 'Not applicable',\n",
       " 'Not applicable',\n",
       " 'Not applicable',\n",
       " 'Not applicable',\n",
       " 'Not applicable',\n",
       " 'Not applicable',\n",
       " 'Not applicable',\n",
       " 'Not applicable',\n",
       " 'Not applicable',\n",
       " 'Not applicable',\n",
       " 'Not applicable',\n",
       " 'Not applicable',\n",
       " 'Not applicable',\n",
       " 'Not applicable',\n",
       " 'Not applicable',\n",
       " 'Not applicable',\n",
       " 'Not applicable',\n",
       " 'Not applicable',\n",
       " 'Not applicable',\n",
       " 'Not applicable',\n",
       " 'Not applicable',\n",
       " 'Not applicable',\n",
       " 'Not applicable',\n",
       " 'Not applicable',\n",
       " 'Not applicable',\n",
       " 'Not applicable',\n",
       " 'Not applicable',\n",
       " 'Not applicable',\n",
       " 'Not applicable',\n",
       " 'Not applicable',\n",
       " 'Not applicable',\n",
       " 'Not applicable',\n",
       " 'Not applicable',\n",
       " 'Not applicable',\n",
       " 'Not applicable',\n",
       " 'Not applicable',\n",
       " 'Not applicable',\n",
       " 'Not applicable',\n",
       " 'Not applicable',\n",
       " 'Not applicable',\n",
       " 'Not applicable',\n",
       " 'Not applicable',\n",
       " 'Not applicable',\n",
       " 'Not applicable',\n",
       " 'Not applicable',\n",
       " 'Not applicable',\n",
       " 'Not applicable',\n",
       " 'Not applicable',\n",
       " 'Not applicable',\n",
       " 'Not applicable',\n",
       " 'Not applicable',\n",
       " 'Not applicable',\n",
       " 'Not applicable',\n",
       " 'Not applicable',\n",
       " 'Not applicable',\n",
       " 'Not applicable',\n",
       " 'Not applicable',\n",
       " 'Not applicable',\n",
       " 'Not applicable',\n",
       " 'Not applicable',\n",
       " 'Not applicable',\n",
       " 'Not applicable',\n",
       " 'Not applicable',\n",
       " 'Not applicable',\n",
       " 'Not applicable',\n",
       " 'Not applicable',\n",
       " 'Not applicable',\n",
       " 'Not applicable',\n",
       " 'Not applicable',\n",
       " 'Not applicable',\n",
       " 'Not applicable',\n",
       " 'Not applicable',\n",
       " 'Not applicable',\n",
       " 'Not applicable',\n",
       " 'Not applicable',\n",
       " 'Not applicable',\n",
       " 'Not applicable',\n",
       " 'Not applicable',\n",
       " 'Not applicable',\n",
       " 'Not applicable',\n",
       " 'Not applicable',\n",
       " 'Not applicable',\n",
       " 'Not applicable',\n",
       " 'Not applicable',\n",
       " 'Not applicable',\n",
       " 'Not applicable',\n",
       " 'Not applicable',\n",
       " 'Not applicable',\n",
       " 'Not applicable',\n",
       " 'Not applicable',\n",
       " 'Not applicable',\n",
       " 'Not applicable',\n",
       " ...]"
      ]
     },
     "execution_count": 34,
     "metadata": {},
     "output_type": "execute_result"
    }
   ],
   "source": [
    "# Checking top_10 list results\n",
    "\n",
    "top_10"
   ]
  },
  {
   "cell_type": "code",
   "execution_count": 35,
   "id": "4518f3c1",
   "metadata": {},
   "outputs": [],
   "source": [
    "# Creating new column in df for 'best_seller'\n",
    "\n",
    "ords_prods_custs_merged_3['best_seller'] = top_10"
   ]
  },
  {
   "cell_type": "code",
   "execution_count": 36,
   "id": "7823e216",
   "metadata": {},
   "outputs": [
    {
     "data": {
      "text/plain": [
       "Not applicable            30352324\n",
       "Top 10 selling product     2052535\n",
       "Name: best_seller, dtype: int64"
      ]
     },
     "execution_count": 36,
     "metadata": {},
     "output_type": "execute_result"
    }
   ],
   "source": [
    "# Value counts for new column\n",
    "\n",
    "ords_prods_custs_merged_3['best_seller'].value_counts(dropna = False)"
   ]
  },
  {
   "cell_type": "code",
   "execution_count": 37,
   "id": "1aae7f7d",
   "metadata": {},
   "outputs": [],
   "source": [
    "# Creating new df with just the top 10 selling products\n",
    "\n",
    "df_top_10_products = ords_prods_custs_merged_3[ords_prods_custs_merged_3['best_seller'] == 'Top 10 selling product']"
   ]
  },
  {
   "cell_type": "code",
   "execution_count": 38,
   "id": "9dd81b45",
   "metadata": {},
   "outputs": [
    {
     "data": {
      "image/png": "[encoded data removed]",
      "text/plain": [
       "<Figure size 432x288 with 1 Axes>"
      ]
     },
     "metadata": {
      "needs_background": "light"
     },
     "output_type": "display_data"
    }
   ],
   "source": [
    "# Creating bar chart for top 10 selling products\n",
    "\n",
    "bar_3 = df_top_10_products['product_name'].value_counts().plot.bar(color = 'maroon')"
   ]
  },
  {
   "cell_type": "code",
   "execution_count": 39,
   "id": "4b07ed24",
   "metadata": {},
   "outputs": [],
   "source": [
    "# Exporting bar_3\n",
    "\n",
    "bar_3.figure.savefig(os.path.join(path, '04 Analysis', 'Visualizations', 'top_10_selling_prods.png'))"
   ]
  },
  {
   "cell_type": "markdown",
   "id": "d8c9e532",
   "metadata": {},
   "source": [
    "# Key Question 4b: Which departments have the highest frequency of product orders?"
   ]
  },
  {
   "cell_type": "code",
   "execution_count": 43,
   "id": "f7411420",
   "metadata": {},
   "outputs": [
    {
     "data": {
      "image/png": "[encoded data removed]",
      "text/plain": [
       "<Figure size 432x288 with 1 Axes>"
      ]
     },
     "metadata": {
      "needs_background": "light"
     },
     "output_type": "display_data"
    }
   ],
   "source": [
    "# Creating bar chart to visualizing order frequency by department\n",
    "\n",
    "bar_4 = ords_prods_custs_merged_3['department_name'].value_counts().plot.bar(color = 'maroon')\n",
    "plt.tight_layout()"
   ]
  },
  {
   "cell_type": "code",
   "execution_count": 44,
   "id": "44cca254",
   "metadata": {},
   "outputs": [],
   "source": [
    "# Exporting bar_4\n",
    "\n",
    "bar_4.figure.savefig(os.path.join(path, '04 Analysis', 'Visualizations', 'ord_freq_by_dept.png'))"
   ]
  },
  {
   "cell_type": "markdown",
   "id": "e828cb99",
   "metadata": {},
   "source": [
    "# Key Question 5a: What's the distribution among users in regard to their brand loyalty (i.e., how often do they return to Instacart?)"
   ]
  },
  {
   "cell_type": "code",
   "execution_count": 45,
   "id": "e2c56d1c",
   "metadata": {},
   "outputs": [
    {
     "data": {
      "text/html": [
       "<div>\n",
       "<style scoped>\n",
       "    .dataframe tbody tr th:only-of-type {\n",
       "        vertical-align: middle;\n",
       "    }\n",
       "\n",
       "    .dataframe tbody tr th {\n",
       "        vertical-align: top;\n",
       "    }\n",
       "\n",
       "    .dataframe thead th {\n",
       "        text-align: right;\n",
       "    }\n",
       "</style>\n",
       "<table border=\"1\" class=\"dataframe\">\n",
       "  <thead>\n",
       "    <tr style=\"text-align: right;\">\n",
       "      <th></th>\n",
       "      <th>order_id</th>\n",
       "      <th>user_id</th>\n",
       "      <th>order_number</th>\n",
       "      <th>orders_day_of_the_week</th>\n",
       "      <th>order_hour_of_day</th>\n",
       "      <th>days_since_prior_order</th>\n",
       "      <th>first_order</th>\n",
       "      <th>product_id</th>\n",
       "      <th>add_to_cart_order</th>\n",
       "      <th>reordered</th>\n",
       "      <th>product_name</th>\n",
       "      <th>aisle_id</th>\n",
       "      <th>department_id</th>\n",
       "      <th>prices</th>\n",
       "      <th>_merge</th>\n",
       "      <th>price_range_loc</th>\n",
       "      <th>busiest_day</th>\n",
       "      <th>busiest_days</th>\n",
       "      <th>busiest_period_of_day</th>\n",
       "      <th>max_order</th>\n",
       "      <th>loyalty_flag</th>\n",
       "      <th>avg_order_cost_by_cust</th>\n",
       "      <th>spender_flag</th>\n",
       "      <th>order_frequency_by_cust</th>\n",
       "      <th>frequency_flag</th>\n",
       "      <th>gender</th>\n",
       "      <th>state</th>\n",
       "      <th>age</th>\n",
       "      <th>date_joined</th>\n",
       "      <th>number_of_dependants</th>\n",
       "      <th>fam_status</th>\n",
       "      <th>income</th>\n",
       "      <th>region</th>\n",
       "      <th>activity_flag</th>\n",
       "      <th>generation</th>\n",
       "      <th>income_group</th>\n",
       "      <th>parent_status</th>\n",
       "      <th>weekday</th>\n",
       "      <th>department_name</th>\n",
       "      <th>best_seller</th>\n",
       "    </tr>\n",
       "  </thead>\n",
       "  <tbody>\n",
       "    <tr>\n",
       "      <th>0</th>\n",
       "      <td>2539329</td>\n",
       "      <td>1</td>\n",
       "      <td>1</td>\n",
       "      <td>2</td>\n",
       "      <td>8</td>\n",
       "      <td>NaN</td>\n",
       "      <td>True</td>\n",
       "      <td>196</td>\n",
       "      <td>1</td>\n",
       "      <td>0</td>\n",
       "      <td>Soda</td>\n",
       "      <td>77</td>\n",
       "      <td>7</td>\n",
       "      <td>9.0</td>\n",
       "      <td>both</td>\n",
       "      <td>Mid-range product</td>\n",
       "      <td>Regularly busy</td>\n",
       "      <td>Regularly busy days</td>\n",
       "      <td>Average orders</td>\n",
       "      <td>10</td>\n",
       "      <td>New customer</td>\n",
       "      <td>6.367797</td>\n",
       "      <td>Low spender</td>\n",
       "      <td>20.5</td>\n",
       "      <td>Non-frequent customer</td>\n",
       "      <td>Female</td>\n",
       "      <td>Alabama</td>\n",
       "      <td>31</td>\n",
       "      <td>2/17/2019</td>\n",
       "      <td>3</td>\n",
       "      <td>married</td>\n",
       "      <td>40423</td>\n",
       "      <td>South</td>\n",
       "      <td>Normal activity</td>\n",
       "      <td>Millennials 26-41</td>\n",
       "      <td>Lower-middle class 32K-53K</td>\n",
       "      <td>Parent</td>\n",
       "      <td>Monday</td>\n",
       "      <td>Beverages</td>\n",
       "      <td>Not applicable</td>\n",
       "    </tr>\n",
       "  </tbody>\n",
       "</table>\n",
       "</div>"
      ],
      "text/plain": [
       "   order_id  user_id  order_number  orders_day_of_the_week  order_hour_of_day  \\\n",
       "0   2539329        1             1                       2                  8   \n",
       "\n",
       "   days_since_prior_order  first_order  product_id  add_to_cart_order  \\\n",
       "0                     NaN         True         196                  1   \n",
       "\n",
       "   reordered product_name  aisle_id  department_id  prices _merge  \\\n",
       "0          0         Soda        77              7     9.0   both   \n",
       "\n",
       "     price_range_loc     busiest_day         busiest_days  \\\n",
       "0  Mid-range product  Regularly busy  Regularly busy days   \n",
       "\n",
       "  busiest_period_of_day  max_order  loyalty_flag  avg_order_cost_by_cust  \\\n",
       "0        Average orders         10  New customer                6.367797   \n",
       "\n",
       "  spender_flag  order_frequency_by_cust         frequency_flag  gender  \\\n",
       "0  Low spender                     20.5  Non-frequent customer  Female   \n",
       "\n",
       "     state  age date_joined  number_of_dependants fam_status  income region  \\\n",
       "0  Alabama   31   2/17/2019                     3    married   40423  South   \n",
       "\n",
       "     activity_flag         generation                income_group  \\\n",
       "0  Normal activity  Millennials 26-41  Lower-middle class 32K-53K   \n",
       "\n",
       "  parent_status weekday department_name     best_seller  \n",
       "0        Parent  Monday       Beverages  Not applicable  "
      ]
     },
     "execution_count": 45,
     "metadata": {},
     "output_type": "execute_result"
    }
   ],
   "source": [
    "# Double checking headers\n",
    "\n",
    "pd.set_option('display.max_columns', None)\n",
    "ords_prods_custs_merged_3.head(1)"
   ]
  },
  {
   "cell_type": "code",
   "execution_count": 46,
   "id": "e6b78687",
   "metadata": {},
   "outputs": [
    {
     "data": {
      "text/plain": [
       "Text(0, 0.5, '')"
      ]
     },
     "execution_count": 46,
     "metadata": {},
     "output_type": "execute_result"
    },
    {
     "data": {
      "image/png": "[encoded data removed]",
      "text/plain": [
       "<Figure size 432x288 with 1 Axes>"
      ]
     },
     "metadata": {},
     "output_type": "display_data"
    }
   ],
   "source": [
    "# Showing pie chart of customers based on loyalty status\n",
    "\n",
    "pie_2 = ords_prods_custs_merged_3['loyalty_flag'].value_counts().plot.pie(autopct = '%1.1f%%')\n",
    "plt.ylabel('')"
   ]
  },
  {
   "cell_type": "code",
   "execution_count": 47,
   "id": "9baf6ae1",
   "metadata": {},
   "outputs": [
    {
     "data": {
      "text/plain": [
       "Regular customer    15876776\n",
       "Loyal customer      10284093\n",
       "New customer         6243990\n",
       "Name: loyalty_flag, dtype: int64"
      ]
     },
     "execution_count": 47,
     "metadata": {},
     "output_type": "execute_result"
    }
   ],
   "source": [
    "# Double checking value counts of 'loyalty_flag'\n",
    "\n",
    "ords_prods_custs_merged_3['loyalty_flag'].value_counts()"
   ]
  },
  {
   "cell_type": "code",
   "execution_count": 48,
   "id": "42233bb2",
   "metadata": {},
   "outputs": [],
   "source": [
    "# Exporting pie_2\n",
    "\n",
    "pie_2.figure.savefig(os.path.join(path, '04 Analysis', 'Visualizations', 'loyalty_flag_pie.png'))"
   ]
  },
  {
   "cell_type": "markdown",
   "id": "70f63810",
   "metadata": {},
   "source": [
    "# Key Question 5b: Are there differences in ordering habits based on a customer’s loyalty status?"
   ]
  },
  {
   "cell_type": "code",
   "execution_count": 49,
   "id": "5e4ffe2a",
   "metadata": {},
   "outputs": [],
   "source": [
    "# Creating crosstab of 'frequency_flag' and 'loyalty_flag'\n",
    "\n",
    "loyalty_and_spending_flags = pd.crosstab(ords_prods_custs_merged_3['frequency_flag'], ords_prods_custs_merged_3['loyalty_flag'], dropna = False)"
   ]
  },
  {
   "cell_type": "code",
   "execution_count": 50,
   "id": "513355ff",
   "metadata": {
    "scrolled": true
   },
   "outputs": [
    {
     "data": {
      "image/png": "[encoded data removed]",
      "text/plain": [
       "<Figure size 432x288 with 1 Axes>"
      ]
     },
     "metadata": {
      "needs_background": "light"
     },
     "output_type": "display_data"
    }
   ],
   "source": [
    "# Creating stacked bar chart - frequency_flag counts grouped by loyalty_flag\n",
    "\n",
    "bar_5 = loyalty_and_spending_flags.plot(kind = 'bar', stacked = True)\n",
    "plt.tight_layout()"
   ]
  },
  {
   "cell_type": "code",
   "execution_count": 51,
   "id": "0f0bc253",
   "metadata": {},
   "outputs": [],
   "source": [
    "# Exporting bar_5\n",
    "\n",
    "bar_5.figure.savefig(os.path.join(path, '04 Analysis', 'Visualizations', 'loyalty_freq_flags.png'))"
   ]
  },
  {
   "cell_type": "code",
   "execution_count": 52,
   "id": "f20b8224",
   "metadata": {},
   "outputs": [],
   "source": [
    "# Creating crosstab between 'department_name' and 'loyalty_flag'\n",
    "\n",
    "dept_name_loyalty_flag = pd.crosstab(ords_prods_custs_merged_3['department_name'], ords_prods_custs_merged_3['loyalty_flag'], dropna = False)"
   ]
  },
  {
   "cell_type": "code",
   "execution_count": 53,
   "id": "c5761e86",
   "metadata": {},
   "outputs": [
    {
     "data": {
      "image/png": "[encoded data removed]",
      "text/plain": [
       "<Figure size 432x288 with 1 Axes>"
      ]
     },
     "metadata": {
      "needs_background": "light"
     },
     "output_type": "display_data"
    }
   ],
   "source": [
    "# Creating stacked bar chart - department_name counts by loyalty_flag\n",
    "\n",
    "bar_6 = dept_name_loyalty_flag.plot(kind = 'bar', stacked = True)"
   ]
  },
  {
   "cell_type": "code",
   "execution_count": 134,
   "id": "2bf8891c",
   "metadata": {},
   "outputs": [],
   "source": [
    "# Checking results in Excel\n",
    "\n",
    "dept_name_loyalty_flag.to_clipboard()"
   ]
  },
  {
   "cell_type": "code",
   "execution_count": 54,
   "id": "5c9b73df",
   "metadata": {},
   "outputs": [],
   "source": [
    "# Exporting bar_6\n",
    "\n",
    "bar_6.figure.savefig(os.path.join(path, '04 Analysis', 'Visualizations', 'dept_name_loyalty_flag.png'))"
   ]
  },
  {
   "cell_type": "markdown",
   "id": "5f0796b1",
   "metadata": {},
   "source": [
    "### Compare your customer profiles with regions and departments. Can you identify a link between them? Customers may demonstrate different behaviors across regions, which could make this information important"
   ]
  },
  {
   "cell_type": "markdown",
   "id": "c729ce44",
   "metadata": {},
   "source": [
    "# Key Question 5c: Are there differences in ordering habits based on a customer’s region? "
   ]
  },
  {
   "cell_type": "code",
   "execution_count": 43,
   "id": "f6a881ea",
   "metadata": {},
   "outputs": [],
   "source": [
    "# Creating crosstab between 'department_name' and 'region' - index argument gives data proportions\n",
    "\n",
    "dept_name_region = pd.crosstab(ords_prods_custs_merged_3['department_name'], ords_prods_custs_merged_3['region'], normalize='index')"
   ]
  },
  {
   "cell_type": "code",
   "execution_count": 44,
   "id": "91fd9582",
   "metadata": {},
   "outputs": [
    {
     "data": {
      "text/html": [
       "<div>\n",
       "<style scoped>\n",
       "    .dataframe tbody tr th:only-of-type {\n",
       "        vertical-align: middle;\n",
       "    }\n",
       "\n",
       "    .dataframe tbody tr th {\n",
       "        vertical-align: top;\n",
       "    }\n",
       "\n",
       "    .dataframe thead th {\n",
       "        text-align: right;\n",
       "    }\n",
       "</style>\n",
       "<table border=\"1\" class=\"dataframe\">\n",
       "  <thead>\n",
       "    <tr style=\"text-align: right;\">\n",
       "      <th>region</th>\n",
       "      <th>Midwest</th>\n",
       "      <th>Northeast</th>\n",
       "      <th>South</th>\n",
       "      <th>West</th>\n",
       "    </tr>\n",
       "    <tr>\n",
       "      <th>department_name</th>\n",
       "      <th></th>\n",
       "      <th></th>\n",
       "      <th></th>\n",
       "      <th></th>\n",
       "    </tr>\n",
       "  </thead>\n",
       "  <tbody>\n",
       "    <tr>\n",
       "      <th>Alcohol</th>\n",
       "      <td>0.199114</td>\n",
       "      <td>0.172692</td>\n",
       "      <td>0.335884</td>\n",
       "      <td>0.292311</td>\n",
       "    </tr>\n",
       "    <tr>\n",
       "      <th>Babies</th>\n",
       "      <td>0.195329</td>\n",
       "      <td>0.177297</td>\n",
       "      <td>0.338965</td>\n",
       "      <td>0.288408</td>\n",
       "    </tr>\n",
       "    <tr>\n",
       "      <th>Bakery</th>\n",
       "      <td>0.194832</td>\n",
       "      <td>0.177921</td>\n",
       "      <td>0.331632</td>\n",
       "      <td>0.295615</td>\n",
       "    </tr>\n",
       "    <tr>\n",
       "      <th>Beverages</th>\n",
       "      <td>0.193804</td>\n",
       "      <td>0.179835</td>\n",
       "      <td>0.334412</td>\n",
       "      <td>0.291949</td>\n",
       "    </tr>\n",
       "    <tr>\n",
       "      <th>Breakfast</th>\n",
       "      <td>0.193716</td>\n",
       "      <td>0.175773</td>\n",
       "      <td>0.333201</td>\n",
       "      <td>0.297310</td>\n",
       "    </tr>\n",
       "    <tr>\n",
       "      <th>Bulk</th>\n",
       "      <td>0.197987</td>\n",
       "      <td>0.167819</td>\n",
       "      <td>0.333584</td>\n",
       "      <td>0.300610</td>\n",
       "    </tr>\n",
       "    <tr>\n",
       "      <th>Canned goods</th>\n",
       "      <td>0.195368</td>\n",
       "      <td>0.174855</td>\n",
       "      <td>0.333329</td>\n",
       "      <td>0.296448</td>\n",
       "    </tr>\n",
       "    <tr>\n",
       "      <th>Dairy Eggs</th>\n",
       "      <td>0.194982</td>\n",
       "      <td>0.176712</td>\n",
       "      <td>0.332849</td>\n",
       "      <td>0.295456</td>\n",
       "    </tr>\n",
       "    <tr>\n",
       "      <th>Deli</th>\n",
       "      <td>0.193888</td>\n",
       "      <td>0.177710</td>\n",
       "      <td>0.332385</td>\n",
       "      <td>0.296017</td>\n",
       "    </tr>\n",
       "    <tr>\n",
       "      <th>Dry goods</th>\n",
       "      <td>0.196257</td>\n",
       "      <td>0.175180</td>\n",
       "      <td>0.331681</td>\n",
       "      <td>0.296881</td>\n",
       "    </tr>\n",
       "    <tr>\n",
       "      <th>Frozen</th>\n",
       "      <td>0.194880</td>\n",
       "      <td>0.174927</td>\n",
       "      <td>0.334669</td>\n",
       "      <td>0.295523</td>\n",
       "    </tr>\n",
       "    <tr>\n",
       "      <th>Household</th>\n",
       "      <td>0.198398</td>\n",
       "      <td>0.178003</td>\n",
       "      <td>0.329066</td>\n",
       "      <td>0.294532</td>\n",
       "    </tr>\n",
       "    <tr>\n",
       "      <th>International</th>\n",
       "      <td>0.196243</td>\n",
       "      <td>0.174152</td>\n",
       "      <td>0.331072</td>\n",
       "      <td>0.298533</td>\n",
       "    </tr>\n",
       "    <tr>\n",
       "      <th>Meat seafood</th>\n",
       "      <td>0.195140</td>\n",
       "      <td>0.175787</td>\n",
       "      <td>0.332548</td>\n",
       "      <td>0.296526</td>\n",
       "    </tr>\n",
       "    <tr>\n",
       "      <th>Missing</th>\n",
       "      <td>0.201692</td>\n",
       "      <td>0.178957</td>\n",
       "      <td>0.335426</td>\n",
       "      <td>0.283925</td>\n",
       "    </tr>\n",
       "    <tr>\n",
       "      <th>Other</th>\n",
       "      <td>0.193188</td>\n",
       "      <td>0.181450</td>\n",
       "      <td>0.336502</td>\n",
       "      <td>0.288859</td>\n",
       "    </tr>\n",
       "    <tr>\n",
       "      <th>Pantry</th>\n",
       "      <td>0.196580</td>\n",
       "      <td>0.175669</td>\n",
       "      <td>0.331901</td>\n",
       "      <td>0.295850</td>\n",
       "    </tr>\n",
       "    <tr>\n",
       "      <th>Personal care</th>\n",
       "      <td>0.196359</td>\n",
       "      <td>0.176095</td>\n",
       "      <td>0.335924</td>\n",
       "      <td>0.291622</td>\n",
       "    </tr>\n",
       "    <tr>\n",
       "      <th>Pets</th>\n",
       "      <td>0.188393</td>\n",
       "      <td>0.190358</td>\n",
       "      <td>0.319999</td>\n",
       "      <td>0.301251</td>\n",
       "    </tr>\n",
       "    <tr>\n",
       "      <th>Produce</th>\n",
       "      <td>0.196055</td>\n",
       "      <td>0.175735</td>\n",
       "      <td>0.333416</td>\n",
       "      <td>0.294794</td>\n",
       "    </tr>\n",
       "    <tr>\n",
       "      <th>Snacks</th>\n",
       "      <td>0.195270</td>\n",
       "      <td>0.178239</td>\n",
       "      <td>0.331543</td>\n",
       "      <td>0.294948</td>\n",
       "    </tr>\n",
       "  </tbody>\n",
       "</table>\n",
       "</div>"
      ],
      "text/plain": [
       "region            Midwest  Northeast     South      West\n",
       "department_name                                         \n",
       "Alcohol          0.199114   0.172692  0.335884  0.292311\n",
       "Babies           0.195329   0.177297  0.338965  0.288408\n",
       "Bakery           0.194832   0.177921  0.331632  0.295615\n",
       "Beverages        0.193804   0.179835  0.334412  0.291949\n",
       "Breakfast        0.193716   0.175773  0.333201  0.297310\n",
       "Bulk             0.197987   0.167819  0.333584  0.300610\n",
       "Canned goods     0.195368   0.174855  0.333329  0.296448\n",
       "Dairy Eggs       0.194982   0.176712  0.332849  0.295456\n",
       "Deli             0.193888   0.177710  0.332385  0.296017\n",
       "Dry goods        0.196257   0.175180  0.331681  0.296881\n",
       "Frozen           0.194880   0.174927  0.334669  0.295523\n",
       "Household        0.198398   0.178003  0.329066  0.294532\n",
       "International    0.196243   0.174152  0.331072  0.298533\n",
       "Meat seafood     0.195140   0.175787  0.332548  0.296526\n",
       "Missing          0.201692   0.178957  0.335426  0.283925\n",
       "Other            0.193188   0.181450  0.336502  0.288859\n",
       "Pantry           0.196580   0.175669  0.331901  0.295850\n",
       "Personal care    0.196359   0.176095  0.335924  0.291622\n",
       "Pets             0.188393   0.190358  0.319999  0.301251\n",
       "Produce          0.196055   0.175735  0.333416  0.294794\n",
       "Snacks           0.195270   0.178239  0.331543  0.294948"
      ]
     },
     "execution_count": 44,
     "metadata": {},
     "output_type": "execute_result"
    }
   ],
   "source": [
    "# Checking crosstab results\n",
    "\n",
    "dept_name_region"
   ]
  },
  {
   "cell_type": "code",
   "execution_count": 45,
   "id": "05acfe9c",
   "metadata": {},
   "outputs": [
    {
     "data": {
      "image/png": "[encoded data removed]",
      "text/plain": [
       "<Figure size 432x288 with 1 Axes>"
      ]
     },
     "metadata": {
      "needs_background": "light"
     },
     "output_type": "display_data"
    }
   ],
   "source": [
    "# Creating 100% stacked bar - department names by region\n",
    "\n",
    "bar100 = dept_name_region.plot(kind='bar', stacked = True)\n",
    "plt.legend(loc='right', bbox_to_anchor=(1.35, 0.50))\n",
    "plt.tight_layout()"
   ]
  },
  {
   "cell_type": "code",
   "execution_count": 46,
   "id": "97c04f70",
   "metadata": {},
   "outputs": [],
   "source": [
    "# Exporting bar100\n",
    "\n",
    "bar100.figure.savefig(os.path.join(path, '04 Analysis', 'Visualizations', 'orders_by_region.png'))"
   ]
  },
  {
   "cell_type": "code",
   "execution_count": 47,
   "id": "b04b1936",
   "metadata": {},
   "outputs": [],
   "source": [
    "# Creating crosstab between 'department_name' and 'region' - index argument gives data proportions\n",
    "\n",
    "weekday_region = pd.crosstab(ords_prods_custs_merged_3['weekday'], ords_prods_custs_merged_3['region'], dropna = False)"
   ]
  },
  {
   "cell_type": "code",
   "execution_count": 48,
   "id": "0fdcad56",
   "metadata": {},
   "outputs": [
    {
     "data": {
      "image/png": "[encoded data removed]",
      "text/plain": [
       "<Figure size 432x288 with 1 Axes>"
      ]
     },
     "metadata": {
      "needs_background": "light"
     },
     "output_type": "display_data"
    }
   ],
   "source": [
    "# Creating stacked bar - weekday by region\n",
    "\n",
    "weekday_region_bar = weekday_region.plot(kind = 'bar', stacked = True)"
   ]
  },
  {
   "cell_type": "code",
   "execution_count": 49,
   "id": "5c841b3e",
   "metadata": {},
   "outputs": [],
   "source": [
    "# Exporting weekday_region_bar\n",
    "\n",
    "weekday_region_bar.figure.savefig(os.path.join(path, '04 Analysis', 'Visualizations', 'weekday_region_bar.png'))"
   ]
  },
  {
   "cell_type": "markdown",
   "id": "49fc1f02",
   "metadata": {},
   "source": [
    "# Key Question 5d: Is there a connection between age and family status in terms of ordering habits?"
   ]
  },
  {
   "cell_type": "code",
   "execution_count": 59,
   "id": "99246c19",
   "metadata": {},
   "outputs": [],
   "source": [
    "# Creating crosstab between 'department_name' and 'generation'\n",
    "\n",
    "order_by_age = pd.crosstab(ords_prods_custs_merged_3['department_name'], ords_prods_custs_merged_3['generation'])"
   ]
  },
  {
   "cell_type": "code",
   "execution_count": 60,
   "id": "2e3fd797",
   "metadata": {},
   "outputs": [
    {
     "data": {
      "image/png": "[encoded data removed]",
      "text/plain": [
       "<Figure size 432x288 with 1 Axes>"
      ]
     },
     "metadata": {
      "needs_background": "light"
     },
     "output_type": "display_data"
    }
   ],
   "source": [
    "# Creating stacked bar - department_name by generation\n",
    "\n",
    "bar_7 = order_by_age.plot(kind = 'bar', stacked = True, color = sns.color_palette('Blues', 5))\n",
    "plt.legend\n",
    "plt.tight_layout()"
   ]
  },
  {
   "cell_type": "code",
   "execution_count": 61,
   "id": "e6fb2f39",
   "metadata": {},
   "outputs": [],
   "source": [
    "# Exporting bar7\n",
    "\n",
    "bar_7.figure.savefig(os.path.join(path, '04 Analysis', 'Visualizations', 'orders_by_age_stack.png'))"
   ]
  },
  {
   "cell_type": "code",
   "execution_count": 62,
   "id": "934cec76",
   "metadata": {},
   "outputs": [],
   "source": [
    "# Creating same crosstab but with values as proportions\n",
    "\n",
    "order_by_age_2 = pd.crosstab(ords_prods_custs_merged_3['department_name'], ords_prods_custs_merged_3['generation'], normalize = 'index')"
   ]
  },
  {
   "cell_type": "code",
   "execution_count": 63,
   "id": "52103807",
   "metadata": {},
   "outputs": [
    {
     "data": {
      "image/png": "[encoded data removed]",
      "text/plain": [
       "<Figure size 432x288 with 1 Axes>"
      ]
     },
     "metadata": {
      "needs_background": "light"
     },
     "output_type": "display_data"
    }
   ],
   "source": [
    "# Creating 100% stacked bar - department name by generation\n",
    "\n",
    "bar100_2 = order_by_age_2.plot(kind='bar', stacked = True, color = sns.color_palette('Blues', 5))\n",
    "plt.legend(loc='right', bbox_to_anchor=(1.0, 0.75))\n",
    "plt.tight_layout()"
   ]
  },
  {
   "cell_type": "code",
   "execution_count": 64,
   "id": "a66b8909",
   "metadata": {},
   "outputs": [],
   "source": [
    "# Exporting bar100_2\n",
    "\n",
    "bar100_2.figure.savefig(os.path.join(path, '04 Analysis', 'Visualizations', 'orders_by_age_100stack.png'))"
   ]
  },
  {
   "cell_type": "code",
   "execution_count": 65,
   "id": "cfbc2682",
   "metadata": {},
   "outputs": [],
   "source": [
    "# Creating crosstab between 'department_name' and 'fam_status'\n",
    "\n",
    "order_by_fam = pd.crosstab(ords_prods_custs_merged_3['department_name'], ords_prods_custs_merged_3['fam_status'])"
   ]
  },
  {
   "cell_type": "code",
   "execution_count": 66,
   "id": "76e10b70",
   "metadata": {},
   "outputs": [
    {
     "data": {
      "image/png": "[encoded data removed]",
      "text/plain": [
       "<Figure size 432x288 with 1 Axes>"
      ]
     },
     "metadata": {
      "needs_background": "light"
     },
     "output_type": "display_data"
    }
   ],
   "source": [
    "# Creating stacked bar - department_name by fam_status\n",
    "\n",
    "bar_8 = order_by_fam.plot(kind = 'bar', stacked = True, color = sns.color_palette('Greens', 4))\n",
    "plt.legend\n",
    "plt.tight_layout()"
   ]
  },
  {
   "cell_type": "code",
   "execution_count": 67,
   "id": "ad671d34",
   "metadata": {},
   "outputs": [],
   "source": [
    "# Exporting bar_8\n",
    "\n",
    "bar_8.figure.savefig(os.path.join(path, '04 Analysis', 'Visualizations', 'orders_by_fam_status.png'))"
   ]
  },
  {
   "cell_type": "code",
   "execution_count": 68,
   "id": "3bca6ede",
   "metadata": {},
   "outputs": [],
   "source": [
    "# Creating same tab but with values as proportions\n",
    "\n",
    "order_by_fam_2 = pd.crosstab(ords_prods_custs_merged_3['department_name'], ords_prods_custs_merged_3['fam_status'], normalize = 'index')"
   ]
  },
  {
   "cell_type": "code",
   "execution_count": 69,
   "id": "c5890832",
   "metadata": {},
   "outputs": [
    {
     "data": {
      "image/png": "[encoded data removed]",
      "text/plain": [
       "<Figure size 432x288 with 1 Axes>"
      ]
     },
     "metadata": {
      "needs_background": "light"
     },
     "output_type": "display_data"
    }
   ],
   "source": [
    "# Creating 100% stacked bar - department_name by fam_status\n",
    "\n",
    "bar100_3 = order_by_fam_2.plot(kind='bar', stacked = True, color = sns.color_palette('Greens', 5))\n",
    "plt.legend(loc='right', bbox_to_anchor=(1.0, 0.80))\n",
    "plt.tight_layout()"
   ]
  },
  {
   "cell_type": "code",
   "execution_count": 70,
   "id": "d2a48803",
   "metadata": {},
   "outputs": [],
   "source": [
    "# Exporting bar100_3\n",
    "\n",
    "bar100_3.figure.savefig(os.path.join(path, '04 Analysis', 'Visualizations', 'orders_by_fam_status_stacked.png'))"
   ]
  },
  {
   "cell_type": "markdown",
   "id": "8f691264",
   "metadata": {},
   "source": [
    "### Aggregate the max, mean, and min variables on a customer-profile level for usage frequency and expenditure"
   ]
  },
  {
   "cell_type": "code",
   "execution_count": 71,
   "id": "e7d87562",
   "metadata": {},
   "outputs": [],
   "source": [
    "# Aggregations for generation & prices\n",
    "\n",
    "age_price_agg = ords_prods_custs_merged_3.groupby('generation').agg({'prices' : ['min', 'mean', 'max']})"
   ]
  },
  {
   "cell_type": "code",
   "execution_count": 72,
   "id": "3b32df6e",
   "metadata": {},
   "outputs": [
    {
     "data": {
      "text/html": [
       "<div>\n",
       "<style scoped>\n",
       "    .dataframe tbody tr th:only-of-type {\n",
       "        vertical-align: middle;\n",
       "    }\n",
       "\n",
       "    .dataframe tbody tr th {\n",
       "        vertical-align: top;\n",
       "    }\n",
       "\n",
       "    .dataframe thead tr th {\n",
       "        text-align: left;\n",
       "    }\n",
       "\n",
       "    .dataframe thead tr:last-of-type th {\n",
       "        text-align: right;\n",
       "    }\n",
       "</style>\n",
       "<table border=\"1\" class=\"dataframe\">\n",
       "  <thead>\n",
       "    <tr>\n",
       "      <th></th>\n",
       "      <th colspan=\"3\" halign=\"left\">prices</th>\n",
       "    </tr>\n",
       "    <tr>\n",
       "      <th></th>\n",
       "      <th>min</th>\n",
       "      <th>mean</th>\n",
       "      <th>max</th>\n",
       "    </tr>\n",
       "    <tr>\n",
       "      <th>generation</th>\n",
       "      <th></th>\n",
       "      <th></th>\n",
       "      <th></th>\n",
       "    </tr>\n",
       "  </thead>\n",
       "  <tbody>\n",
       "    <tr>\n",
       "      <th>Baby Boomers 58-76</th>\n",
       "      <td>1.0</td>\n",
       "      <td>7.796990</td>\n",
       "      <td>25.0</td>\n",
       "    </tr>\n",
       "    <tr>\n",
       "      <th>Gen X 42-57</th>\n",
       "      <td>1.0</td>\n",
       "      <td>7.790789</td>\n",
       "      <td>25.0</td>\n",
       "    </tr>\n",
       "    <tr>\n",
       "      <th>Gen Z 18-25</th>\n",
       "      <td>1.0</td>\n",
       "      <td>7.785748</td>\n",
       "      <td>25.0</td>\n",
       "    </tr>\n",
       "    <tr>\n",
       "      <th>Millennials 26-41</th>\n",
       "      <td>1.0</td>\n",
       "      <td>7.787246</td>\n",
       "      <td>25.0</td>\n",
       "    </tr>\n",
       "    <tr>\n",
       "      <th>Silent Generation &gt;76</th>\n",
       "      <td>1.0</td>\n",
       "      <td>7.789497</td>\n",
       "      <td>25.0</td>\n",
       "    </tr>\n",
       "  </tbody>\n",
       "</table>\n",
       "</div>"
      ],
      "text/plain": [
       "                      prices                \n",
       "                         min      mean   max\n",
       "generation                                  \n",
       "Baby Boomers 58-76       1.0  7.796990  25.0\n",
       "Gen X 42-57              1.0  7.790789  25.0\n",
       "Gen Z 18-25              1.0  7.785748  25.0\n",
       "Millennials 26-41        1.0  7.787246  25.0\n",
       "Silent Generation >76    1.0  7.789497  25.0"
      ]
     },
     "execution_count": 72,
     "metadata": {},
     "output_type": "execute_result"
    }
   ],
   "source": [
    "age_price_agg"
   ]
  },
  {
   "cell_type": "code",
   "execution_count": 73,
   "id": "a9208718",
   "metadata": {},
   "outputs": [],
   "source": [
    "# Aggregations for generation & order_number\n",
    "\n",
    "age_order_agg = ords_prods_custs_merged_3.groupby('generation').agg({'order_number' : ['min', 'mean', 'max']})"
   ]
  },
  {
   "cell_type": "code",
   "execution_count": 74,
   "id": "eabee8f9",
   "metadata": {},
   "outputs": [
    {
     "data": {
      "text/html": [
       "<div>\n",
       "<style scoped>\n",
       "    .dataframe tbody tr th:only-of-type {\n",
       "        vertical-align: middle;\n",
       "    }\n",
       "\n",
       "    .dataframe tbody tr th {\n",
       "        vertical-align: top;\n",
       "    }\n",
       "\n",
       "    .dataframe thead tr th {\n",
       "        text-align: left;\n",
       "    }\n",
       "\n",
       "    .dataframe thead tr:last-of-type th {\n",
       "        text-align: right;\n",
       "    }\n",
       "</style>\n",
       "<table border=\"1\" class=\"dataframe\">\n",
       "  <thead>\n",
       "    <tr>\n",
       "      <th></th>\n",
       "      <th colspan=\"3\" halign=\"left\">order_number</th>\n",
       "    </tr>\n",
       "    <tr>\n",
       "      <th></th>\n",
       "      <th>min</th>\n",
       "      <th>mean</th>\n",
       "      <th>max</th>\n",
       "    </tr>\n",
       "    <tr>\n",
       "      <th>generation</th>\n",
       "      <th></th>\n",
       "      <th></th>\n",
       "      <th></th>\n",
       "    </tr>\n",
       "  </thead>\n",
       "  <tbody>\n",
       "    <tr>\n",
       "      <th>Baby Boomers 58-76</th>\n",
       "      <td>1</td>\n",
       "      <td>17.122193</td>\n",
       "      <td>99</td>\n",
       "    </tr>\n",
       "    <tr>\n",
       "      <th>Gen X 42-57</th>\n",
       "      <td>1</td>\n",
       "      <td>17.158065</td>\n",
       "      <td>99</td>\n",
       "    </tr>\n",
       "    <tr>\n",
       "      <th>Gen Z 18-25</th>\n",
       "      <td>1</td>\n",
       "      <td>17.173224</td>\n",
       "      <td>99</td>\n",
       "    </tr>\n",
       "    <tr>\n",
       "      <th>Millennials 26-41</th>\n",
       "      <td>1</td>\n",
       "      <td>17.144745</td>\n",
       "      <td>99</td>\n",
       "    </tr>\n",
       "    <tr>\n",
       "      <th>Silent Generation &gt;76</th>\n",
       "      <td>1</td>\n",
       "      <td>17.110013</td>\n",
       "      <td>99</td>\n",
       "    </tr>\n",
       "  </tbody>\n",
       "</table>\n",
       "</div>"
      ],
      "text/plain": [
       "                      order_number               \n",
       "                               min       mean max\n",
       "generation                                       \n",
       "Baby Boomers 58-76               1  17.122193  99\n",
       "Gen X 42-57                      1  17.158065  99\n",
       "Gen Z 18-25                      1  17.173224  99\n",
       "Millennials 26-41                1  17.144745  99\n",
       "Silent Generation >76            1  17.110013  99"
      ]
     },
     "execution_count": 74,
     "metadata": {},
     "output_type": "execute_result"
    }
   ],
   "source": [
    "age_order_agg"
   ]
  },
  {
   "cell_type": "code",
   "execution_count": 75,
   "id": "a9adad7d",
   "metadata": {},
   "outputs": [],
   "source": [
    "# Aggregations for income & price\n",
    "\n",
    "income_price_agg = ords_prods_custs_merged_3.groupby('income_group').agg({'prices' : ['min', 'mean', 'max']})"
   ]
  },
  {
   "cell_type": "code",
   "execution_count": 76,
   "id": "0b3c1942",
   "metadata": {},
   "outputs": [
    {
     "data": {
      "text/html": [
       "<div>\n",
       "<style scoped>\n",
       "    .dataframe tbody tr th:only-of-type {\n",
       "        vertical-align: middle;\n",
       "    }\n",
       "\n",
       "    .dataframe tbody tr th {\n",
       "        vertical-align: top;\n",
       "    }\n",
       "\n",
       "    .dataframe thead tr th {\n",
       "        text-align: left;\n",
       "    }\n",
       "\n",
       "    .dataframe thead tr:last-of-type th {\n",
       "        text-align: right;\n",
       "    }\n",
       "</style>\n",
       "<table border=\"1\" class=\"dataframe\">\n",
       "  <thead>\n",
       "    <tr>\n",
       "      <th></th>\n",
       "      <th colspan=\"3\" halign=\"left\">prices</th>\n",
       "    </tr>\n",
       "    <tr>\n",
       "      <th></th>\n",
       "      <th>min</th>\n",
       "      <th>mean</th>\n",
       "      <th>max</th>\n",
       "    </tr>\n",
       "    <tr>\n",
       "      <th>income_group</th>\n",
       "      <th></th>\n",
       "      <th></th>\n",
       "      <th></th>\n",
       "    </tr>\n",
       "  </thead>\n",
       "  <tbody>\n",
       "    <tr>\n",
       "      <th>Lower class &lt;32K</th>\n",
       "      <td>1.0</td>\n",
       "      <td>6.498681</td>\n",
       "      <td>25.0</td>\n",
       "    </tr>\n",
       "    <tr>\n",
       "      <th>Lower-middle class 32K-53K</th>\n",
       "      <td>1.0</td>\n",
       "      <td>6.843750</td>\n",
       "      <td>25.0</td>\n",
       "    </tr>\n",
       "    <tr>\n",
       "      <th>Middle class 53K-107K</th>\n",
       "      <td>1.0</td>\n",
       "      <td>7.920133</td>\n",
       "      <td>25.0</td>\n",
       "    </tr>\n",
       "    <tr>\n",
       "      <th>Upper class &gt;374K</th>\n",
       "      <td>1.0</td>\n",
       "      <td>7.755069</td>\n",
       "      <td>25.0</td>\n",
       "    </tr>\n",
       "    <tr>\n",
       "      <th>Upper middle class 107K-374K</th>\n",
       "      <td>1.0</td>\n",
       "      <td>7.958679</td>\n",
       "      <td>25.0</td>\n",
       "    </tr>\n",
       "  </tbody>\n",
       "</table>\n",
       "</div>"
      ],
      "text/plain": [
       "                             prices                \n",
       "                                min      mean   max\n",
       "income_group                                       \n",
       "Lower class <32K                1.0  6.498681  25.0\n",
       "Lower-middle class 32K-53K      1.0  6.843750  25.0\n",
       "Middle class 53K-107K           1.0  7.920133  25.0\n",
       "Upper class >374K               1.0  7.755069  25.0\n",
       "Upper middle class 107K-374K    1.0  7.958679  25.0"
      ]
     },
     "execution_count": 76,
     "metadata": {},
     "output_type": "execute_result"
    }
   ],
   "source": [
    "income_price_agg"
   ]
  },
  {
   "cell_type": "code",
   "execution_count": 77,
   "id": "2b8a7057",
   "metadata": {},
   "outputs": [],
   "source": [
    "# Aggregations for income & order_number\n",
    "\n",
    "income_order_agg = ords_prods_custs_merged_3.groupby('income_group').agg({'order_number' : ['min', 'mean', 'max']})"
   ]
  },
  {
   "cell_type": "code",
   "execution_count": 78,
   "id": "d28bed6b",
   "metadata": {},
   "outputs": [
    {
     "data": {
      "text/html": [
       "<div>\n",
       "<style scoped>\n",
       "    .dataframe tbody tr th:only-of-type {\n",
       "        vertical-align: middle;\n",
       "    }\n",
       "\n",
       "    .dataframe tbody tr th {\n",
       "        vertical-align: top;\n",
       "    }\n",
       "\n",
       "    .dataframe thead tr th {\n",
       "        text-align: left;\n",
       "    }\n",
       "\n",
       "    .dataframe thead tr:last-of-type th {\n",
       "        text-align: right;\n",
       "    }\n",
       "</style>\n",
       "<table border=\"1\" class=\"dataframe\">\n",
       "  <thead>\n",
       "    <tr>\n",
       "      <th></th>\n",
       "      <th colspan=\"3\" halign=\"left\">order_number</th>\n",
       "    </tr>\n",
       "    <tr>\n",
       "      <th></th>\n",
       "      <th>min</th>\n",
       "      <th>mean</th>\n",
       "      <th>max</th>\n",
       "    </tr>\n",
       "    <tr>\n",
       "      <th>income_group</th>\n",
       "      <th></th>\n",
       "      <th></th>\n",
       "      <th></th>\n",
       "    </tr>\n",
       "  </thead>\n",
       "  <tbody>\n",
       "    <tr>\n",
       "      <th>Lower class &lt;32K</th>\n",
       "      <td>1</td>\n",
       "      <td>15.473165</td>\n",
       "      <td>99</td>\n",
       "    </tr>\n",
       "    <tr>\n",
       "      <th>Lower-middle class 32K-53K</th>\n",
       "      <td>1</td>\n",
       "      <td>16.073580</td>\n",
       "      <td>99</td>\n",
       "    </tr>\n",
       "    <tr>\n",
       "      <th>Middle class 53K-107K</th>\n",
       "      <td>1</td>\n",
       "      <td>17.286154</td>\n",
       "      <td>99</td>\n",
       "    </tr>\n",
       "    <tr>\n",
       "      <th>Upper class &gt;374K</th>\n",
       "      <td>1</td>\n",
       "      <td>18.913610</td>\n",
       "      <td>99</td>\n",
       "    </tr>\n",
       "    <tr>\n",
       "      <th>Upper middle class 107K-374K</th>\n",
       "      <td>1</td>\n",
       "      <td>17.333854</td>\n",
       "      <td>99</td>\n",
       "    </tr>\n",
       "  </tbody>\n",
       "</table>\n",
       "</div>"
      ],
      "text/plain": [
       "                             order_number               \n",
       "                                      min       mean max\n",
       "income_group                                            \n",
       "Lower class <32K                        1  15.473165  99\n",
       "Lower-middle class 32K-53K              1  16.073580  99\n",
       "Middle class 53K-107K                   1  17.286154  99\n",
       "Upper class >374K                       1  18.913610  99\n",
       "Upper middle class 107K-374K            1  17.333854  99"
      ]
     },
     "execution_count": 78,
     "metadata": {},
     "output_type": "execute_result"
    }
   ],
   "source": [
    "income_order_agg"
   ]
  },
  {
   "cell_type": "code",
   "execution_count": 79,
   "id": "2e78b6fc",
   "metadata": {},
   "outputs": [],
   "source": [
    "# Aggregations for fam_status & price\n",
    "\n",
    "fam_price_agg = ords_prods_custs_merged_3.groupby('fam_status').agg({'prices' : ['min', 'mean', 'max']})"
   ]
  },
  {
   "cell_type": "code",
   "execution_count": 80,
   "id": "2a9bde70",
   "metadata": {},
   "outputs": [
    {
     "data": {
      "text/html": [
       "<div>\n",
       "<style scoped>\n",
       "    .dataframe tbody tr th:only-of-type {\n",
       "        vertical-align: middle;\n",
       "    }\n",
       "\n",
       "    .dataframe tbody tr th {\n",
       "        vertical-align: top;\n",
       "    }\n",
       "\n",
       "    .dataframe thead tr th {\n",
       "        text-align: left;\n",
       "    }\n",
       "\n",
       "    .dataframe thead tr:last-of-type th {\n",
       "        text-align: right;\n",
       "    }\n",
       "</style>\n",
       "<table border=\"1\" class=\"dataframe\">\n",
       "  <thead>\n",
       "    <tr>\n",
       "      <th></th>\n",
       "      <th colspan=\"3\" halign=\"left\">prices</th>\n",
       "    </tr>\n",
       "    <tr>\n",
       "      <th></th>\n",
       "      <th>min</th>\n",
       "      <th>mean</th>\n",
       "      <th>max</th>\n",
       "    </tr>\n",
       "    <tr>\n",
       "      <th>fam_status</th>\n",
       "      <th></th>\n",
       "      <th></th>\n",
       "      <th></th>\n",
       "    </tr>\n",
       "  </thead>\n",
       "  <tbody>\n",
       "    <tr>\n",
       "      <th>divorced/widowed</th>\n",
       "      <td>1.0</td>\n",
       "      <td>7.800975</td>\n",
       "      <td>25.0</td>\n",
       "    </tr>\n",
       "    <tr>\n",
       "      <th>living with parents and siblings</th>\n",
       "      <td>1.0</td>\n",
       "      <td>7.800712</td>\n",
       "      <td>25.0</td>\n",
       "    </tr>\n",
       "    <tr>\n",
       "      <th>married</th>\n",
       "      <td>1.0</td>\n",
       "      <td>7.790695</td>\n",
       "      <td>25.0</td>\n",
       "    </tr>\n",
       "    <tr>\n",
       "      <th>single</th>\n",
       "      <td>1.0</td>\n",
       "      <td>7.784249</td>\n",
       "      <td>25.0</td>\n",
       "    </tr>\n",
       "  </tbody>\n",
       "</table>\n",
       "</div>"
      ],
      "text/plain": [
       "                                 prices                \n",
       "                                    min      mean   max\n",
       "fam_status                                             \n",
       "divorced/widowed                    1.0  7.800975  25.0\n",
       "living with parents and siblings    1.0  7.800712  25.0\n",
       "married                             1.0  7.790695  25.0\n",
       "single                              1.0  7.784249  25.0"
      ]
     },
     "execution_count": 80,
     "metadata": {},
     "output_type": "execute_result"
    }
   ],
   "source": [
    "fam_price_agg"
   ]
  },
  {
   "cell_type": "code",
   "execution_count": 81,
   "id": "6bdcad3c",
   "metadata": {},
   "outputs": [],
   "source": [
    "# Aggregations for fam_status & order_number\n",
    "\n",
    "fam_order_agg = ords_prods_custs_merged_3.groupby('fam_status').agg({'order_number' : ['min', 'mean', 'max']})"
   ]
  },
  {
   "cell_type": "code",
   "execution_count": 82,
   "id": "90fb04ad",
   "metadata": {},
   "outputs": [
    {
     "data": {
      "text/html": [
       "<div>\n",
       "<style scoped>\n",
       "    .dataframe tbody tr th:only-of-type {\n",
       "        vertical-align: middle;\n",
       "    }\n",
       "\n",
       "    .dataframe tbody tr th {\n",
       "        vertical-align: top;\n",
       "    }\n",
       "\n",
       "    .dataframe thead tr th {\n",
       "        text-align: left;\n",
       "    }\n",
       "\n",
       "    .dataframe thead tr:last-of-type th {\n",
       "        text-align: right;\n",
       "    }\n",
       "</style>\n",
       "<table border=\"1\" class=\"dataframe\">\n",
       "  <thead>\n",
       "    <tr>\n",
       "      <th></th>\n",
       "      <th colspan=\"3\" halign=\"left\">order_number</th>\n",
       "    </tr>\n",
       "    <tr>\n",
       "      <th></th>\n",
       "      <th>min</th>\n",
       "      <th>mean</th>\n",
       "      <th>max</th>\n",
       "    </tr>\n",
       "    <tr>\n",
       "      <th>fam_status</th>\n",
       "      <th></th>\n",
       "      <th></th>\n",
       "      <th></th>\n",
       "    </tr>\n",
       "  </thead>\n",
       "  <tbody>\n",
       "    <tr>\n",
       "      <th>divorced/widowed</th>\n",
       "      <td>1</td>\n",
       "      <td>17.275873</td>\n",
       "      <td>99</td>\n",
       "    </tr>\n",
       "    <tr>\n",
       "      <th>living with parents and siblings</th>\n",
       "      <td>1</td>\n",
       "      <td>17.296372</td>\n",
       "      <td>99</td>\n",
       "    </tr>\n",
       "    <tr>\n",
       "      <th>married</th>\n",
       "      <td>1</td>\n",
       "      <td>17.088283</td>\n",
       "      <td>99</td>\n",
       "    </tr>\n",
       "    <tr>\n",
       "      <th>single</th>\n",
       "      <td>1</td>\n",
       "      <td>17.258766</td>\n",
       "      <td>99</td>\n",
       "    </tr>\n",
       "  </tbody>\n",
       "</table>\n",
       "</div>"
      ],
      "text/plain": [
       "                                 order_number               \n",
       "                                          min       mean max\n",
       "fam_status                                                  \n",
       "divorced/widowed                            1  17.275873  99\n",
       "living with parents and siblings            1  17.296372  99\n",
       "married                                     1  17.088283  99\n",
       "single                                      1  17.258766  99"
      ]
     },
     "execution_count": 82,
     "metadata": {},
     "output_type": "execute_result"
    }
   ],
   "source": [
    "fam_order_agg"
   ]
  },
  {
   "cell_type": "code",
   "execution_count": 83,
   "id": "66022804",
   "metadata": {},
   "outputs": [],
   "source": [
    "# Aggregations for parent_status & prices\n",
    "\n",
    "parent_price_agg = ords_prods_custs_merged_3.groupby('parent_status').agg({'prices' : ['min', 'mean', 'max']})"
   ]
  },
  {
   "cell_type": "code",
   "execution_count": 84,
   "id": "220c6552",
   "metadata": {},
   "outputs": [
    {
     "data": {
      "text/html": [
       "<div>\n",
       "<style scoped>\n",
       "    .dataframe tbody tr th:only-of-type {\n",
       "        vertical-align: middle;\n",
       "    }\n",
       "\n",
       "    .dataframe tbody tr th {\n",
       "        vertical-align: top;\n",
       "    }\n",
       "\n",
       "    .dataframe thead tr th {\n",
       "        text-align: left;\n",
       "    }\n",
       "\n",
       "    .dataframe thead tr:last-of-type th {\n",
       "        text-align: right;\n",
       "    }\n",
       "</style>\n",
       "<table border=\"1\" class=\"dataframe\">\n",
       "  <thead>\n",
       "    <tr>\n",
       "      <th></th>\n",
       "      <th colspan=\"3\" halign=\"left\">prices</th>\n",
       "    </tr>\n",
       "    <tr>\n",
       "      <th></th>\n",
       "      <th>min</th>\n",
       "      <th>mean</th>\n",
       "      <th>max</th>\n",
       "    </tr>\n",
       "    <tr>\n",
       "      <th>parent_status</th>\n",
       "      <th></th>\n",
       "      <th></th>\n",
       "      <th></th>\n",
       "    </tr>\n",
       "  </thead>\n",
       "  <tbody>\n",
       "    <tr>\n",
       "      <th>Non-parent</th>\n",
       "      <td>1.0</td>\n",
       "      <td>7.789975</td>\n",
       "      <td>25.0</td>\n",
       "    </tr>\n",
       "    <tr>\n",
       "      <th>Parent</th>\n",
       "      <td>1.0</td>\n",
       "      <td>7.791334</td>\n",
       "      <td>25.0</td>\n",
       "    </tr>\n",
       "  </tbody>\n",
       "</table>\n",
       "</div>"
      ],
      "text/plain": [
       "              prices                \n",
       "                 min      mean   max\n",
       "parent_status                       \n",
       "Non-parent       1.0  7.789975  25.0\n",
       "Parent           1.0  7.791334  25.0"
      ]
     },
     "execution_count": 84,
     "metadata": {},
     "output_type": "execute_result"
    }
   ],
   "source": [
    "parent_price_agg"
   ]
  },
  {
   "cell_type": "code",
   "execution_count": 85,
   "id": "4634a37f",
   "metadata": {},
   "outputs": [],
   "source": [
    "# Aggregations for parent_status & order_number\n",
    "\n",
    "parent_order_agg = ords_prods_custs_merged_3.groupby('parent_status').agg({'order_number' : ['min', 'mean', 'max']})"
   ]
  },
  {
   "cell_type": "code",
   "execution_count": 86,
   "id": "9c03dc95",
   "metadata": {},
   "outputs": [
    {
     "data": {
      "text/html": [
       "<div>\n",
       "<style scoped>\n",
       "    .dataframe tbody tr th:only-of-type {\n",
       "        vertical-align: middle;\n",
       "    }\n",
       "\n",
       "    .dataframe tbody tr th {\n",
       "        vertical-align: top;\n",
       "    }\n",
       "\n",
       "    .dataframe thead tr th {\n",
       "        text-align: left;\n",
       "    }\n",
       "\n",
       "    .dataframe thead tr:last-of-type th {\n",
       "        text-align: right;\n",
       "    }\n",
       "</style>\n",
       "<table border=\"1\" class=\"dataframe\">\n",
       "  <thead>\n",
       "    <tr>\n",
       "      <th></th>\n",
       "      <th colspan=\"3\" halign=\"left\">order_number</th>\n",
       "    </tr>\n",
       "    <tr>\n",
       "      <th></th>\n",
       "      <th>min</th>\n",
       "      <th>mean</th>\n",
       "      <th>max</th>\n",
       "    </tr>\n",
       "    <tr>\n",
       "      <th>parent_status</th>\n",
       "      <th></th>\n",
       "      <th></th>\n",
       "      <th></th>\n",
       "    </tr>\n",
       "  </thead>\n",
       "  <tbody>\n",
       "    <tr>\n",
       "      <th>Non-parent</th>\n",
       "      <td>1</td>\n",
       "      <td>17.264622</td>\n",
       "      <td>99</td>\n",
       "    </tr>\n",
       "    <tr>\n",
       "      <th>Parent</th>\n",
       "      <td>1</td>\n",
       "      <td>17.101557</td>\n",
       "      <td>99</td>\n",
       "    </tr>\n",
       "  </tbody>\n",
       "</table>\n",
       "</div>"
      ],
      "text/plain": [
       "              order_number               \n",
       "                       min       mean max\n",
       "parent_status                            \n",
       "Non-parent               1  17.264622  99\n",
       "Parent                   1  17.101557  99"
      ]
     },
     "execution_count": 86,
     "metadata": {},
     "output_type": "execute_result"
    }
   ],
   "source": [
    "parent_order_agg"
   ]
  },
  {
   "cell_type": "markdown",
   "id": "6a3089d6",
   "metadata": {},
   "source": [
    "# Question 5e: What different classifications does the demographic information suggest? Age? Income? Certain types of goods? Family status? "
   ]
  },
  {
   "cell_type": "code",
   "execution_count": 87,
   "id": "e724f584",
   "metadata": {},
   "outputs": [
    {
     "data": {
      "text/plain": [
       "Text(0, 0.5, '')"
      ]
     },
     "execution_count": 87,
     "metadata": {},
     "output_type": "execute_result"
    },
    {
     "data": {
      "image/png": "[encoded data removed]",
      "text/plain": [
       "<Figure size 432x288 with 1 Axes>"
      ]
     },
     "metadata": {},
     "output_type": "display_data"
    }
   ],
   "source": [
    "# Showing pie chart of customers based on generation\n",
    "\n",
    "pie_3 = ords_prods_custs_merged_3['generation'].value_counts().plot.pie(autopct = '%1.1f%%')\n",
    "plt.ylabel('')"
   ]
  },
  {
   "cell_type": "code",
   "execution_count": 88,
   "id": "fa8d8c88",
   "metadata": {},
   "outputs": [],
   "source": [
    "# Exporting pie_3\n",
    "\n",
    "pie_3.figure.savefig(os.path.join(path, '04 Analysis', 'Visualizations', 'custs_generation_pie.png'))"
   ]
  },
  {
   "cell_type": "code",
   "execution_count": 89,
   "id": "26556656",
   "metadata": {},
   "outputs": [
    {
     "data": {
      "image/png": "[encoded data removed]",
      "text/plain": [
       "<Figure size 432x288 with 1 Axes>"
      ]
     },
     "metadata": {
      "needs_background": "light"
     },
     "output_type": "display_data"
    }
   ],
   "source": [
    "# Bar chart of income_group count\n",
    "\n",
    "bar_9 = ords_prods_custs_merged_3['income_group'].value_counts().plot.bar(color = 'orange')"
   ]
  },
  {
   "cell_type": "code",
   "execution_count": 94,
   "id": "44e589fb",
   "metadata": {},
   "outputs": [],
   "source": [
    "# Exporting bar_9\n",
    "\n",
    "bar_9.figure.savefig(os.path.join(path, '04 Analysis', 'Visualizations', 'count_by_income_group_bar.png'))"
   ]
  },
  {
   "cell_type": "code",
   "execution_count": 91,
   "id": "49a6c980",
   "metadata": {},
   "outputs": [],
   "source": [
    "# Creating aggregation for total sales by income_group\n",
    "\n",
    "sales_by_income_group = ords_prods_custs_merged_3.groupby('income_group').agg({'prices' : ['sum']})"
   ]
  },
  {
   "cell_type": "code",
   "execution_count": 93,
   "id": "9f6baec6",
   "metadata": {},
   "outputs": [
    {
     "data": {
      "image/png": "[encoded data removed]",
      "text/plain": [
       "<Figure size 432x288 with 1 Axes>"
      ]
     },
     "metadata": {
      "needs_background": "light"
     },
     "output_type": "display_data"
    }
   ],
   "source": [
    "# Bar chart of total sales by income group\n",
    "\n",
    "income_price_bar = sales_by_income_group.plot.bar(color = 'orange')"
   ]
  },
  {
   "cell_type": "code",
   "execution_count": 95,
   "id": "0425d3a5",
   "metadata": {},
   "outputs": [],
   "source": [
    "# Exporting income_price_bar\n",
    "\n",
    "income_price_bar.figure.savefig(os.path.join(path, '04 Analysis', 'Visualizations', 'sales_by_income_group.png'))"
   ]
  },
  {
   "cell_type": "code",
   "execution_count": 96,
   "id": "11038b28",
   "metadata": {},
   "outputs": [
    {
     "data": {
      "text/plain": [
       "Text(0, 0.5, '')"
      ]
     },
     "execution_count": 96,
     "metadata": {},
     "output_type": "execute_result"
    },
    {
     "data": {
      "image/png": "[encoded data removed]",
      "text/plain": [
       "<Figure size 432x288 with 1 Axes>"
      ]
     },
     "metadata": {},
     "output_type": "display_data"
    }
   ],
   "source": [
    "# Showing pie chart of customers based on fam_status\n",
    "\n",
    "pie_4 = ords_prods_custs_merged_3['fam_status'].value_counts().plot.pie(autopct = '%1.1f%%')\n",
    "plt.ylabel('')"
   ]
  },
  {
   "cell_type": "code",
   "execution_count": 97,
   "id": "5d5bc5fa",
   "metadata": {},
   "outputs": [],
   "source": [
    "# Exporting pie_4\n",
    "\n",
    "pie_4.figure.savefig(os.path.join(path, '04 Analysis', 'Visualizations', 'count_by_fam_status_pie.png'))"
   ]
  },
  {
   "cell_type": "code",
   "execution_count": 98,
   "id": "3246dcf4",
   "metadata": {},
   "outputs": [],
   "source": [
    "# Creating aggregation for total sales by fam_status\n",
    "\n",
    "sales_by_fam_status = ords_prods_custs_merged_3.groupby('fam_status').agg({'prices' : ['sum']})"
   ]
  },
  {
   "cell_type": "code",
   "execution_count": 99,
   "id": "b396cd5f",
   "metadata": {},
   "outputs": [
    {
     "data": {
      "text/plain": [
       "<function matplotlib.pyplot.legend(*args, **kwargs)>"
      ]
     },
     "execution_count": 99,
     "metadata": {},
     "output_type": "execute_result"
    },
    {
     "data": {
      "image/png": "[encoded data removed]",
      "text/plain": [
       "<Figure size 432x288 with 1 Axes>"
      ]
     },
     "metadata": {
      "needs_background": "light"
     },
     "output_type": "display_data"
    }
   ],
   "source": [
    "# Bar chart of total sales by fam_status\n",
    "\n",
    "bar_10 = sales_by_fam_status.plot.bar()\n",
    "plt.legend"
   ]
  },
  {
   "cell_type": "code",
   "execution_count": 100,
   "id": "c41e953a",
   "metadata": {},
   "outputs": [],
   "source": [
    "# Exporting bar_10\n",
    "\n",
    "bar_10.figure.savefig(os.path.join(path, '04 Analysis', 'Visualizations', 'sales_by_fam_status_bar.png'))"
   ]
  },
  {
   "cell_type": "markdown",
   "id": "9ee711b4",
   "metadata": {},
   "source": [
    "# Key Question 5f: What differences can you find in ordering habits of different customer profiles? "
   ]
  },
  {
   "cell_type": "code",
   "execution_count": 101,
   "id": "a42314c9",
   "metadata": {},
   "outputs": [],
   "source": [
    "# Crosstab between order_hour_of_day and parent_status\n",
    "\n",
    "parent_spender = pd.crosstab(ords_prods_custs_merged_3['order_hour_of_day'], ords_prods_custs_merged_3['parent_status'], dropna = False)"
   ]
  },
  {
   "cell_type": "code",
   "execution_count": 102,
   "id": "11b963bf",
   "metadata": {},
   "outputs": [
    {
     "data": {
      "image/png": "[encoded data removed]",
      "text/plain": [
       "<Figure size 432x288 with 1 Axes>"
      ]
     },
     "metadata": {
      "needs_background": "light"
     },
     "output_type": "display_data"
    }
   ],
   "source": [
    "# Creating stacked bar chart - order_hour_of_day by parent_status\n",
    "\n",
    "bar_11 = parent_spender.plot(kind = 'bar', stacked = True, color = sns.color_palette('Reds', 3))"
   ]
  },
  {
   "cell_type": "code",
   "execution_count": 103,
   "id": "b35d8a27",
   "metadata": {},
   "outputs": [],
   "source": [
    "# Exporting bar_11\n",
    "\n",
    "bar_11.figure.savefig(os.path.join(path, '04 Analysis', 'Visualizations', 'order_hour_by_parent_status.png'))"
   ]
  },
  {
   "cell_type": "code",
   "execution_count": 104,
   "id": "d8a27465",
   "metadata": {},
   "outputs": [],
   "source": [
    "# Crosstab between generation and spender_flag\n",
    "\n",
    "age_spender_type = pd.crosstab(ords_prods_custs_merged_3['generation'], ords_prods_custs_merged_3['spender_flag'], dropna = False)"
   ]
  },
  {
   "cell_type": "code",
   "execution_count": 105,
   "id": "97d96340",
   "metadata": {},
   "outputs": [
    {
     "data": {
      "image/png": "[encoded data removed]",
      "text/plain": [
       "<Figure size 432x288 with 1 Axes>"
      ]
     },
     "metadata": {
      "needs_background": "light"
     },
     "output_type": "display_data"
    }
   ],
   "source": [
    "# Creating stacked bar chart - generation count by spender_flag\n",
    "\n",
    "bar_12 = age_spender_type.plot(kind = 'bar', stacked = True)"
   ]
  },
  {
   "cell_type": "code",
   "execution_count": 106,
   "id": "b99d518c",
   "metadata": {},
   "outputs": [],
   "source": [
    "# Exporting bar_12\n",
    "\n",
    "bar_12.figure.savefig(os.path.join(path, '04 Analysis', 'Visualizations', 'generation_count_by_spender_flag.png'))"
   ]
  },
  {
   "cell_type": "code",
   "execution_count": 110,
   "id": "3e61c737",
   "metadata": {},
   "outputs": [],
   "source": [
    "# Creating crosstab between weekday and parent_status\n",
    "\n",
    "parent_spender_2 = pd.crosstab(ords_prods_custs_merged_3['weekday'], ords_prods_custs_merged_3['parent_status'], dropna = False)"
   ]
  },
  {
   "cell_type": "code",
   "execution_count": 111,
   "id": "a4798cdd",
   "metadata": {},
   "outputs": [
    {
     "data": {
      "image/png": "[encoded data removed]",
      "text/plain": [
       "<Figure size 432x288 with 1 Axes>"
      ]
     },
     "metadata": {
      "needs_background": "light"
     },
     "output_type": "display_data"
    }
   ],
   "source": [
    "# Creating stacked bar - weekday by parent_status\n",
    "\n",
    "bar_13 = parent_spender_2.plot(kind = 'bar', stacked = True, color = sns.color_palette('Reds',3))"
   ]
  },
  {
   "cell_type": "code",
   "execution_count": 113,
   "id": "60acb715",
   "metadata": {},
   "outputs": [],
   "source": [
    "# Exporting bar13\n",
    "\n",
    "bar_13.figure.savefig(os.path.join(path, '04 Analysis', 'Visualizations', 'weekday_by_parent_status.png'))"
   ]
  },
  {
   "cell_type": "code",
   "execution_count": 135,
   "id": "2ed7e1f7",
   "metadata": {},
   "outputs": [],
   "source": [
    "# Creating crosstab between weekday and generation\n",
    "\n",
    "age_spend_habit = pd.crosstab(ords_prods_custs_merged_3['weekday'], ords_prods_custs_merged_3['generation'], dropna = False)"
   ]
  },
  {
   "cell_type": "code",
   "execution_count": 161,
   "id": "fc296879",
   "metadata": {},
   "outputs": [
    {
     "data": {
      "image/png": "[encoded data removed]",
      "text/plain": [
       "<Figure size 432x288 with 1 Axes>"
      ]
     },
     "metadata": {
      "needs_background": "light"
     },
     "output_type": "display_data"
    }
   ],
   "source": [
    "# Creating stacked bar - weekday by generation\n",
    "\n",
    "bar_14 = age_spend_habit.plot(kind = 'bar', stacked = True, color = sns.color_palette('Oranges',5))\n",
    "plt.tight_layout()"
   ]
  },
  {
   "cell_type": "code",
   "execution_count": 162,
   "id": "cc15b3a2",
   "metadata": {},
   "outputs": [],
   "source": [
    "# Exporting bar14\n",
    "\n",
    "bar_14.figure.savefig(os.path.join(path, '04 Analysis', 'Visualizations', 'age_spend_habit.png'))"
   ]
  },
  {
   "cell_type": "code",
   "execution_count": 151,
   "id": "607d4151",
   "metadata": {},
   "outputs": [],
   "source": [
    "# Creating crosstab between generation and fam_status\n",
    "\n",
    "gen_fam = pd.crosstab(ords_prods_custs_merged_3['generation'], ords_prods_custs_merged_3['fam_status'], dropna = False)"
   ]
  },
  {
   "cell_type": "code",
   "execution_count": 167,
   "id": "fc6e1827",
   "metadata": {},
   "outputs": [
    {
     "data": {
      "image/png": "[encoded data removed]",
      "text/plain": [
       "<Figure size 432x288 with 1 Axes>"
      ]
     },
     "metadata": {
      "needs_background": "light"
     },
     "output_type": "display_data"
    }
   ],
   "source": [
    "# Creating stacked bar - generation by fam_status\n",
    "\n",
    "bar_15 = gen_fam.plot(kind = 'bar', stacked = True, color = sns.color_palette('Blues',4))\n",
    "plt.tight_layout()"
   ]
  },
  {
   "cell_type": "code",
   "execution_count": 168,
   "id": "8ffb0eef",
   "metadata": {},
   "outputs": [],
   "source": [
    "# Exporting bar_15\n",
    "\n",
    "bar_15.figure.savefig(os.path.join(path, '04 Analysis', 'Visualizations', 'gen_fam_status.png'))"
   ]
  },
  {
   "cell_type": "code",
   "execution_count": 50,
   "id": "6535eaff",
   "metadata": {
    "scrolled": true
   },
   "outputs": [
    {
     "data": {
      "text/html": [
       "<div>\n",
       "<style scoped>\n",
       "    .dataframe tbody tr th:only-of-type {\n",
       "        vertical-align: middle;\n",
       "    }\n",
       "\n",
       "    .dataframe tbody tr th {\n",
       "        vertical-align: top;\n",
       "    }\n",
       "\n",
       "    .dataframe thead th {\n",
       "        text-align: right;\n",
       "    }\n",
       "</style>\n",
       "<table border=\"1\" class=\"dataframe\">\n",
       "  <thead>\n",
       "    <tr style=\"text-align: right;\">\n",
       "      <th></th>\n",
       "      <th>order_id</th>\n",
       "      <th>user_id</th>\n",
       "      <th>order_number</th>\n",
       "      <th>orders_day_of_the_week</th>\n",
       "      <th>order_hour_of_day</th>\n",
       "      <th>days_since_prior_order</th>\n",
       "      <th>first_order</th>\n",
       "      <th>product_id</th>\n",
       "      <th>add_to_cart_order</th>\n",
       "      <th>reordered</th>\n",
       "      <th>...</th>\n",
       "      <th>fam_status</th>\n",
       "      <th>income</th>\n",
       "      <th>region</th>\n",
       "      <th>activity_flag</th>\n",
       "      <th>generation</th>\n",
       "      <th>income_group</th>\n",
       "      <th>parent_status</th>\n",
       "      <th>weekday</th>\n",
       "      <th>department_name</th>\n",
       "      <th>best_seller</th>\n",
       "    </tr>\n",
       "  </thead>\n",
       "  <tbody>\n",
       "    <tr>\n",
       "      <th>0</th>\n",
       "      <td>2539329</td>\n",
       "      <td>1</td>\n",
       "      <td>1</td>\n",
       "      <td>2</td>\n",
       "      <td>8</td>\n",
       "      <td>NaN</td>\n",
       "      <td>True</td>\n",
       "      <td>196</td>\n",
       "      <td>1</td>\n",
       "      <td>0</td>\n",
       "      <td>...</td>\n",
       "      <td>married</td>\n",
       "      <td>40423</td>\n",
       "      <td>South</td>\n",
       "      <td>Normal activity</td>\n",
       "      <td>Millennials 26-41</td>\n",
       "      <td>Lower-middle class 32K-53K</td>\n",
       "      <td>Parent</td>\n",
       "      <td>Monday</td>\n",
       "      <td>Beverages</td>\n",
       "      <td>Not applicable</td>\n",
       "    </tr>\n",
       "  </tbody>\n",
       "</table>\n",
       "<p>1 rows × 40 columns</p>\n",
       "</div>"
      ],
      "text/plain": [
       "   order_id  user_id  order_number  orders_day_of_the_week  order_hour_of_day  \\\n",
       "0   2539329        1             1                       2                  8   \n",
       "\n",
       "   days_since_prior_order  first_order  product_id  add_to_cart_order  \\\n",
       "0                     NaN         True         196                  1   \n",
       "\n",
       "   reordered  ... fam_status  income  region    activity_flag  \\\n",
       "0          0  ...    married   40423   South  Normal activity   \n",
       "\n",
       "          generation                income_group parent_status weekday  \\\n",
       "0  Millennials 26-41  Lower-middle class 32K-53K        Parent  Monday   \n",
       "\n",
       "  department_name     best_seller  \n",
       "0       Beverages  Not applicable  \n",
       "\n",
       "[1 rows x 40 columns]"
      ]
     },
     "execution_count": 50,
     "metadata": {},
     "output_type": "execute_result"
    }
   ],
   "source": [
    "# Double checking headers\n",
    "\n",
    "ords_prods_custs_merged_3.head(1)"
   ]
  },
  {
   "cell_type": "code",
   "execution_count": 51,
   "id": "31ccee3b",
   "metadata": {},
   "outputs": [
    {
     "data": {
      "text/plain": [
       "(32404859, 40)"
      ]
     },
     "execution_count": 51,
     "metadata": {},
     "output_type": "execute_result"
    }
   ],
   "source": [
    "# Checking shape\n",
    "\n",
    "ords_prods_custs_merged_3.shape"
   ]
  },
  {
   "cell_type": "markdown",
   "id": "665675f6",
   "metadata": {},
   "source": [
    "# Exporting Data"
   ]
  },
  {
   "cell_type": "code",
   "execution_count": 52,
   "id": "776aab43",
   "metadata": {},
   "outputs": [],
   "source": [
    "# Exporting most updated df as .csv file\n",
    "\n",
    "ords_prods_custs_merged_3.to_csv(os.path.join(path, '02 Data','Prepared Data', 'ords_prods_custs_merged_final.csv'))"
   ]
  }
 ],
 "metadata": {
  "kernelspec": {
   "display_name": "Python 3",
   "language": "python",
   "name": "python3"
  },
  "language_info": {
   "codemirror_mode": {
    "name": "ipython",
    "version": 3
   },
   "file_extension": ".py",
   "mimetype": "text/x-python",
   "name": "python",
   "nbconvert_exporter": "python",
   "pygments_lexer": "ipython3",
   "version": "3.7.6"
  }
 },
 "nbformat": 4,
 "nbformat_minor": 5
}
