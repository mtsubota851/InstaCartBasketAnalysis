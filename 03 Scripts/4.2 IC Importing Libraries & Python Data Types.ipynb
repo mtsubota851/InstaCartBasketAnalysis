{
 "cells": [
  {
   "cell_type": "markdown",
   "id": "2b0ce6eb",
   "metadata": {},
   "source": [
    "# 01. Importing Libraries"
   ]
  },
  {
   "cell_type": "code",
   "execution_count": 3,
   "id": "5cc3b0d3",
   "metadata": {},
   "outputs": [],
   "source": [
    "# Import libraries\n",
    "import pandas as pd\n",
    "import numpy as np\n",
    "import os"
   ]
  },
  {
   "cell_type": "markdown",
   "id": "06c46184",
   "metadata": {},
   "source": [
    "# 02. Python Data Types"
   ]
  },
  {
   "cell_type": "markdown",
   "id": "a9ea239c",
   "metadata": {},
   "source": [
    "###### Code 3 different ways of reaching a result of 100 by adding or subtracting numeric values"
   ]
  },
  {
   "cell_type": "code",
   "execution_count": 4,
   "id": "43026e89",
   "metadata": {},
   "outputs": [
    {
     "data": {
      "text/plain": [
       "100"
      ]
     },
     "execution_count": 4,
     "metadata": {},
     "output_type": "execute_result"
    }
   ],
   "source": [
    "25 + 75"
   ]
  },
  {
   "cell_type": "code",
   "execution_count": 5,
   "id": "f7ed368b",
   "metadata": {},
   "outputs": [
    {
     "data": {
      "text/plain": [
       "100"
      ]
     },
     "execution_count": 5,
     "metadata": {},
     "output_type": "execute_result"
    }
   ],
   "source": [
    "200 - 100"
   ]
  },
  {
   "cell_type": "code",
   "execution_count": 6,
   "id": "a45d7f82",
   "metadata": {},
   "outputs": [],
   "source": [
    "x = 60\n",
    "y = 40"
   ]
  },
  {
   "cell_type": "code",
   "execution_count": 7,
   "id": "dac8fa37",
   "metadata": {},
   "outputs": [
    {
     "data": {
      "text/plain": [
       "100"
      ]
     },
     "execution_count": 7,
     "metadata": {},
     "output_type": "execute_result"
    }
   ],
   "source": [
    "x + y"
   ]
  },
  {
   "cell_type": "markdown",
   "id": "b3d6ff9d",
   "metadata": {},
   "source": [
    "###### Code 2 floating-point variables and divide them by each other"
   ]
  },
  {
   "cell_type": "code",
   "execution_count": 8,
   "id": "c30aaa64",
   "metadata": {},
   "outputs": [],
   "source": [
    "a = 9.6\n",
    "b = 2.8"
   ]
  },
  {
   "cell_type": "code",
   "execution_count": 9,
   "id": "64274cc6",
   "metadata": {},
   "outputs": [
    {
     "data": {
      "text/plain": [
       "3.428571428571429"
      ]
     },
     "execution_count": 9,
     "metadata": {},
     "output_type": "execute_result"
    }
   ],
   "source": [
    "a/b"
   ]
  },
  {
   "cell_type": "markdown",
   "id": "35f68123",
   "metadata": {},
   "source": [
    "###### Construct a short word made of separate strings (you’ll need to concatenate some strings!)"
   ]
  },
  {
   "cell_type": "code",
   "execution_count": 10,
   "id": "894c36d7",
   "metadata": {},
   "outputs": [],
   "source": [
    "c = 'd'\n",
    "d = 'o'\n",
    "e = 'g'"
   ]
  },
  {
   "cell_type": "code",
   "execution_count": 11,
   "id": "c11db0e2",
   "metadata": {},
   "outputs": [
    {
     "data": {
      "text/plain": [
       "'dog'"
      ]
     },
     "execution_count": 11,
     "metadata": {},
     "output_type": "execute_result"
    }
   ],
   "source": [
    "c + d + e"
   ]
  },
  {
   "cell_type": "markdown",
   "id": "4d8398f5",
   "metadata": {},
   "source": [
    "###### Construct 2 short sentences made of separate strings"
   ]
  },
  {
   "cell_type": "code",
   "execution_count": 14,
   "id": "e1ea4577",
   "metadata": {},
   "outputs": [],
   "source": [
    "f = 'My name is Aditi. '\n",
    "g = 'I am learning Python.'"
   ]
  },
  {
   "cell_type": "code",
   "execution_count": 15,
   "id": "afbc5769",
   "metadata": {},
   "outputs": [
    {
     "name": "stdout",
     "output_type": "stream",
     "text": [
      "My name is Aditi. I am learning Python.\n"
     ]
    }
   ],
   "source": [
    "print(f+g)"
   ]
  }
 ],
 "metadata": {
  "kernelspec": {
   "display_name": "Python 3",
   "language": "python",
   "name": "python3"
  },
  "language_info": {
   "codemirror_mode": {
    "name": "ipython",
    "version": 3
   },
   "file_extension": ".py",
   "mimetype": "text/x-python",
   "name": "python",
   "nbconvert_exporter": "python",
   "pygments_lexer": "ipython3",
   "version": "3.7.6"
  }
 },
 "nbformat": 4,
 "nbformat_minor": 5
}
